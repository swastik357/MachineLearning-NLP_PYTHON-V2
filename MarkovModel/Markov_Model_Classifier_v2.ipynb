{
  "nbformat": 4,
  "nbformat_minor": 0,
  "metadata": {
    "colab": {
      "provenance": []
    },
    "kernelspec": {
      "name": "python3",
      "display_name": "Python 3"
    },
    "language_info": {
      "name": "python"
    }
  },
  "cells": [
    {
      "cell_type": "code",
      "execution_count": 202,
      "metadata": {
        "colab": {
          "base_uri": "https://localhost:8080/"
        },
        "id": "eEY8tW90JswE",
        "outputId": "ea280623-9b35-43f6-ab8d-95c3a5a6087e"
      },
      "outputs": [
        {
          "output_type": "stream",
          "name": "stdout",
          "text": [
            "File ‘edgar_allan_poe.txt’ already there; not retrieving.\n",
            "\n",
            "File ‘robert_frost.txt’ already there; not retrieving.\n",
            "\n"
          ]
        }
      ],
      "source": [
        "!wget -nc https://raw.githubusercontent.com/lazyprogrammer/machine_learning_examples/master/hmm_class/edgar_allan_poe.txt\n",
        "!wget -nc https://raw.githubusercontent.com/lazyprogrammer/machine_learning_examples/master/hmm_class/robert_frost.txt"
      ]
    },
    {
      "cell_type": "code",
      "source": [
        "import numpy as np\n",
        "import matplotlib.pyplot as plt\n",
        "import string\n",
        "from sklearn.model_selection import train_test_split"
      ],
      "metadata": {
        "id": "xUXQbO5EKX_x"
      },
      "execution_count": 203,
      "outputs": []
    },
    {
      "cell_type": "code",
      "source": [
        "input_files = [\n",
        "  'edgar_allan_poe.txt',\n",
        "  'robert_frost.txt',\n",
        "]"
      ],
      "metadata": {
        "id": "PHOFIkg_KjBR"
      },
      "execution_count": 204,
      "outputs": []
    },
    {
      "cell_type": "code",
      "source": [
        "!head edgar_allan_poe.txt"
      ],
      "metadata": {
        "colab": {
          "base_uri": "https://localhost:8080/"
        },
        "id": "cY5m_WrKKl6K",
        "outputId": "ff707df7-a658-4fe7-b13f-49e398e3b958"
      },
      "execution_count": 205,
      "outputs": [
        {
          "output_type": "stream",
          "name": "stdout",
          "text": [
            "LO! Death hath rear'd himself a throne\n",
            "In a strange city, all alone,\n",
            "Far down within the dim west\n",
            "Where the good, and the bad, and the worst, and the best,\n",
            "Have gone to their eternal rest.\n",
            " \n",
            "There shrines, and palaces, and towers\n",
            "Are not like any thing of ours\n",
            "Oh no! O no! ours never loom\n",
            "To heaven with that ungodly gloom!\n"
          ]
        }
      ]
    },
    {
      "cell_type": "code",
      "source": [
        "!head robert_frost.txt"
      ],
      "metadata": {
        "colab": {
          "base_uri": "https://localhost:8080/"
        },
        "id": "5-BtR3O2KoYP",
        "outputId": "9ac61ab7-7899-4739-9fd5-7c74d2b89798"
      },
      "execution_count": 206,
      "outputs": [
        {
          "output_type": "stream",
          "name": "stdout",
          "text": [
            "Two roads diverged in a yellow wood,\n",
            "And sorry I could not travel both\n",
            "And be one traveler, long I stood\n",
            "And looked down one as far as I could\n",
            "To where it bent in the undergrowth; \n",
            "\n",
            "Then took the other, as just as fair,\n",
            "And having perhaps the better claim\n",
            "Because it was grassy and wanted wear,\n",
            "Though as for that the passing there\n"
          ]
        }
      ]
    },
    {
      "cell_type": "code",
      "source": [
        "# collect data into lists\n",
        "input_texts = []\n",
        "labels = []\n",
        "\n",
        "for label, f in enumerate(input_files):\n",
        "  print(f\"{f} corresponds to label {label}\")\n",
        "\n",
        "  for line in open(f):\n",
        "    line = line.rstrip().lower()\n",
        "    if line:\n",
        "      # remove punctuation\n",
        "      line = line.translate(str.maketrans('', '', string.punctuation))\n",
        "\n",
        "      input_texts.append(line)\n",
        "      labels.append(label)"
      ],
      "metadata": {
        "colab": {
          "base_uri": "https://localhost:8080/"
        },
        "id": "Rn876bEcKs3N",
        "outputId": "fe1ea4f7-f4a2-462b-de86-7760ee4a740f"
      },
      "execution_count": 207,
      "outputs": [
        {
          "output_type": "stream",
          "name": "stdout",
          "text": [
            "edgar_allan_poe.txt corresponds to label 0\n",
            "robert_frost.txt corresponds to label 1\n"
          ]
        }
      ]
    },
    {
      "cell_type": "code",
      "source": [
        "train_text, test_text, Ytrain, Ytest = train_test_split(input_texts, labels)"
      ],
      "metadata": {
        "id": "8rEZsvCtKxOJ"
      },
      "execution_count": 208,
      "outputs": []
    },
    {
      "cell_type": "code",
      "source": [
        "len(Ytrain), len(Ytest)"
      ],
      "metadata": {
        "colab": {
          "base_uri": "https://localhost:8080/"
        },
        "id": "WYx_YZXjK0gT",
        "outputId": "004a406c-98e9-4bff-9f9b-f5335608c922"
      },
      "execution_count": 209,
      "outputs": [
        {
          "output_type": "execute_result",
          "data": {
            "text/plain": [
              "(1615, 539)"
            ]
          },
          "metadata": {},
          "execution_count": 209
        }
      ]
    },
    {
      "cell_type": "code",
      "source": [
        "train_text[:5]"
      ],
      "metadata": {
        "colab": {
          "base_uri": "https://localhost:8080/"
        },
        "id": "HaLfTtzcK4uG",
        "outputId": "ef11c3bb-5bda-4aff-d281-b6249122296b"
      },
      "execution_count": 210,
      "outputs": [
        {
          "output_type": "execute_result",
          "data": {
            "text/plain": [
              "['like starlight on a pall',\n",
              " 'and in a town that is no more a town',\n",
              " 'who otherwise would fall from life and heaven',\n",
              " 'the frogs that were peeping a thousand shrill',\n",
              " 'then cane one knock']"
            ]
          },
          "metadata": {},
          "execution_count": 210
        }
      ]
    },
    {
      "cell_type": "code",
      "source": [
        "Ytrain[:5]"
      ],
      "metadata": {
        "colab": {
          "base_uri": "https://localhost:8080/"
        },
        "id": "YHdsNBRSK7yN",
        "outputId": "2e8f2345-41f6-49a5-b5fe-ce7d516800b7"
      },
      "execution_count": 211,
      "outputs": [
        {
          "output_type": "execute_result",
          "data": {
            "text/plain": [
              "[0, 1, 0, 1, 1]"
            ]
          },
          "metadata": {},
          "execution_count": 211
        }
      ]
    },
    {
      "cell_type": "code",
      "source": [
        "idx = 1\n",
        "word2idx = {'<unk>': 0}"
      ],
      "metadata": {
        "id": "olyurOruK-NJ"
      },
      "execution_count": 212,
      "outputs": []
    },
    {
      "cell_type": "code",
      "source": [
        "# populate word2idx\n",
        "for text in train_text:\n",
        "    tokens = text.split()\n",
        "    for token in tokens:\n",
        "      if token not in word2idx:\n",
        "        word2idx[token] = idx\n",
        "        idx += 1"
      ],
      "metadata": {
        "id": "P_zE7GFoLCFV"
      },
      "execution_count": 213,
      "outputs": []
    },
    {
      "cell_type": "code",
      "source": [
        "word2idx"
      ],
      "metadata": {
        "colab": {
          "base_uri": "https://localhost:8080/"
        },
        "id": "rb5HXlXPLGH6",
        "outputId": "ac7fe19b-d1d6-4ff2-b059-891c6c7bd850"
      },
      "execution_count": 214,
      "outputs": [
        {
          "output_type": "execute_result",
          "data": {
            "text/plain": [
              "{'<unk>': 0,\n",
              " 'like': 1,\n",
              " 'starlight': 2,\n",
              " 'on': 3,\n",
              " 'a': 4,\n",
              " 'pall': 5,\n",
              " 'and': 6,\n",
              " 'in': 7,\n",
              " 'town': 8,\n",
              " 'that': 9,\n",
              " 'is': 10,\n",
              " 'no': 11,\n",
              " 'more': 12,\n",
              " 'who': 13,\n",
              " 'otherwise': 14,\n",
              " 'would': 15,\n",
              " 'fall': 16,\n",
              " 'from': 17,\n",
              " 'life': 18,\n",
              " 'heaven': 19,\n",
              " 'the': 20,\n",
              " 'frogs': 21,\n",
              " 'were': 22,\n",
              " 'peeping': 23,\n",
              " 'thousand': 24,\n",
              " 'shrill': 25,\n",
              " 'then': 26,\n",
              " 'cane': 27,\n",
              " 'one': 28,\n",
              " 'knock': 29,\n",
              " 'two': 30,\n",
              " 'oldbelievers': 31,\n",
              " 'they': 32,\n",
              " 'did': 33,\n",
              " 'all': 34,\n",
              " 'talking': 35,\n",
              " 'nor': 36,\n",
              " 'never': 37,\n",
              " 'will': 38,\n",
              " 'be': 39,\n",
              " 'to': 40,\n",
              " 'my': 41,\n",
              " 'way': 42,\n",
              " 'of': 43,\n",
              " 'thinking': 44,\n",
              " 'just': 45,\n",
              " 'oer': 46,\n",
              " 'bright': 47,\n",
              " 'island': 48,\n",
              " 'smile': 49,\n",
              " 'but': 50,\n",
              " 'why': 51,\n",
              " 'when': 52,\n",
              " 'shes': 53,\n",
              " 'well': 54,\n",
              " 'off': 55,\n",
              " 'it': 56,\n",
              " 'neighbours': 57,\n",
              " 'hours': 58,\n",
              " 'flew': 59,\n",
              " 'brightly': 60,\n",
              " 'by': 61,\n",
              " 'perhaps': 62,\n",
              " 'you': 63,\n",
              " 'have': 64,\n",
              " 'art': 65,\n",
              " 'what': 66,\n",
              " 'i': 67,\n",
              " 'mean': 68,\n",
              " 'was': 69,\n",
              " 'some': 70,\n",
              " 'money': 71,\n",
              " 'suddenly': 72,\n",
              " 'come': 73,\n",
              " 'into': 74,\n",
              " 'watch': 75,\n",
              " 'his': 76,\n",
              " 'woods': 77,\n",
              " 'fill': 78,\n",
              " 'up': 79,\n",
              " 'with': 80,\n",
              " 'snow': 81,\n",
              " 'fair': 82,\n",
              " 'palace': 83,\n",
              " 'door': 84,\n",
              " 'how': 85,\n",
              " 'shall': 86,\n",
              " 'we': 87,\n",
              " 'she': 88,\n",
              " 'seems': 89,\n",
              " 'housework': 90,\n",
              " 'besides': 91,\n",
              " 'sad': 92,\n",
              " 'silent': 93,\n",
              " 'watches': 94,\n",
              " 'night': 95,\n",
              " 'over': 96,\n",
              " 'so': 97,\n",
              " 'much': 98,\n",
              " 'bay': 99,\n",
              " 'round': 100,\n",
              " 'about': 101,\n",
              " 'throne': 102,\n",
              " 'where': 103,\n",
              " 'sitting': 104,\n",
              " 'mebbe': 105,\n",
              " 'im': 106,\n",
              " 'wrong': 107,\n",
              " 'take': 108,\n",
              " 'as': 109,\n",
              " 'do': 110,\n",
              " 'however': 111,\n",
              " 'far': 112,\n",
              " 'must': 113,\n",
              " 'go': 114,\n",
              " 'for': 115,\n",
              " 'bricks': 116,\n",
              " 'flowers': 117,\n",
              " 'her': 118,\n",
              " 'lap': 119,\n",
              " 'until': 120,\n",
              " 'fade': 121,\n",
              " 'this': 122,\n",
              " 'pride': 123,\n",
              " 'ancestry': 124,\n",
              " 'yankees': 125,\n",
              " 'whom': 126,\n",
              " 'thine': 127,\n",
              " 'absence': 128,\n",
              " 'hillside': 129,\n",
              " 'day': 130,\n",
              " 'sun': 131,\n",
              " 'lets': 132,\n",
              " 'brought': 133,\n",
              " 'dread': 134,\n",
              " 'burden': 135,\n",
              " 'down': 136,\n",
              " 'here': 137,\n",
              " 'melancholy': 138,\n",
              " 'waters': 139,\n",
              " 'lie': 140,\n",
              " 'fathomless': 141,\n",
              " 'capacity': 142,\n",
              " 'love': 143,\n",
              " 'see': 144,\n",
              " 'goes': 145,\n",
              " 'fast': 146,\n",
              " 'there': 147,\n",
              " 'wasnt': 148,\n",
              " 'always': 149,\n",
              " 'hudsons': 150,\n",
              " 'maintained': 151,\n",
              " 'power': 152,\n",
              " 'words': 153,\n",
              " 'denied': 154,\n",
              " 'ever': 155,\n",
              " 'tended': 156,\n",
              " 'both': 157,\n",
              " 'or': 158,\n",
              " 'had': 159,\n",
              " 'them': 160,\n",
              " 'hole': 161,\n",
              " 'somewhere': 162,\n",
              " 'heel': 163,\n",
              " 'fence': 164,\n",
              " 'our': 165,\n",
              " 'hens': 166,\n",
              " 'range': 167,\n",
              " 'save': 168,\n",
              " 'only': 169,\n",
              " 'thee': 170,\n",
              " 'me': 171,\n",
              " 'paused': 172,\n",
              " 'looked': 173,\n",
              " 'please': 174,\n",
              " 'kitchen': 175,\n",
              " 'chimney': 176,\n",
              " 'youll': 177,\n",
              " 'expecting': 178,\n",
              " 'john': 179,\n",
              " 'pity': 180,\n",
              " 'estelle': 181,\n",
              " 'swish': 182,\n",
              " 'grass': 183,\n",
              " 'if': 184,\n",
              " 'others': 185,\n",
              " 'their': 186,\n",
              " 'deeptoned': 187,\n",
              " 'throats': 188,\n",
              " 'started': 189,\n",
              " 'above': 190,\n",
              " 'stove': 191,\n",
              " 'youve': 192,\n",
              " 'lost': 193,\n",
              " 'ghoulhaunted': 194,\n",
              " 'woodland': 195,\n",
              " 'weir': 196,\n",
              " 'still': 197,\n",
              " 'unafraid': 198,\n",
              " 'mother': 199,\n",
              " 'ive': 200,\n",
              " 'done': 201,\n",
              " 'good': 202,\n",
              " 'tower': 203,\n",
              " 'clock': 204,\n",
              " 'death': 205,\n",
              " 'looks': 206,\n",
              " 'gigantically': 207,\n",
              " 'rapid': 208,\n",
              " 'pleiads': 209,\n",
              " 'even': 210,\n",
              " 'bead': 211,\n",
              " 'silver': 212,\n",
              " 'water': 213,\n",
              " 'less': 214,\n",
              " 'though': 215,\n",
              " 'stop': 216,\n",
              " 'wet': 217,\n",
              " 'stampede': 218,\n",
              " 'give': 219,\n",
              " 'sleep': 220,\n",
              " 'sing': 221,\n",
              " 'creation': 222,\n",
              " 'undo': 223,\n",
              " 'hed': 224,\n",
              " 'make': 225,\n",
              " 'right': 226,\n",
              " 'whose': 227,\n",
              " 'shoes': 228,\n",
              " 'primped': 229,\n",
              " 'dance': 230,\n",
              " 'mistrusted': 231,\n",
              " 'he': 232,\n",
              " 'none': 233,\n",
              " 'too': 234,\n",
              " 'proud': 235,\n",
              " 'doubt': 236,\n",
              " 'id': 237,\n",
              " 'end': 238,\n",
              " 'holding': 239,\n",
              " 'nose': 240,\n",
              " 'same': 241,\n",
              " 'sos': 242,\n",
              " 'chin': 243,\n",
              " 'wild': 244,\n",
              " 'hearthistories': 245,\n",
              " 'seemed': 246,\n",
              " 'enwritten': 247,\n",
              " 'thou': 248,\n",
              " 'wouldst': 249,\n",
              " 'loved': 250,\n",
              " 'let': 251,\n",
              " 'thy': 252,\n",
              " 'heart': 253,\n",
              " 'pearly': 254,\n",
              " 'lustre': 255,\n",
              " 'moon': 256,\n",
              " 'went': 257,\n",
              " 'out': 258,\n",
              " 'dragged': 259,\n",
              " 'everywhere': 260,\n",
              " 'alas': 261,\n",
              " 'magical': 262,\n",
              " 'sound': 263,\n",
              " 'hath': 264,\n",
              " 'told': 265,\n",
              " 'thought': 266,\n",
              " 'daylight': 267,\n",
              " 'beauty': 268,\n",
              " 'birth': 269,\n",
              " 'overflowing': 270,\n",
              " 'horn': 271,\n",
              " 'plenty': 272,\n",
              " 't': 273,\n",
              " 'awake': 274,\n",
              " 'us': 275,\n",
              " 'tis': 276,\n",
              " 'symbol': 277,\n",
              " 'token': 278,\n",
              " 'sure': 279,\n",
              " 'lead': 280,\n",
              " 'aright': 281,\n",
              " 'governor': 282,\n",
              " 'proclaimed': 283,\n",
              " 'time': 284,\n",
              " 'are': 285,\n",
              " 'level': 286,\n",
              " 'waves': 287,\n",
              " 'now': 288,\n",
              " 'at': 289,\n",
              " 'length': 290,\n",
              " 'dear': 291,\n",
              " 'dian': 292,\n",
              " 'sank': 293,\n",
              " 'sight': 294,\n",
              " 'hands': 295,\n",
              " 'men': 296,\n",
              " 'grave': 297,\n",
              " 'growing': 298,\n",
              " 'grown': 299,\n",
              " 'driven': 300,\n",
              " 'hamadryad': 301,\n",
              " 'wood': 302,\n",
              " 'old': 303,\n",
              " 'stock': 304,\n",
              " 'counts': 305,\n",
              " 'ideals': 306,\n",
              " 'unless': 307,\n",
              " 'not': 308,\n",
              " 'left': 309,\n",
              " 'hopes': 310,\n",
              " 'since': 311,\n",
              " 'tell': 312,\n",
              " 'witch': 313,\n",
              " 'has': 314,\n",
              " 'ranged': 315,\n",
              " 'ruler': 316,\n",
              " 'realm': 317,\n",
              " 'seen': 318,\n",
              " 'than': 319,\n",
              " 'seraph': 320,\n",
              " 'harper': 321,\n",
              " 'israfel': 322,\n",
              " 'earthly': 323,\n",
              " 'weather': 324,\n",
              " 'wildest': 325,\n",
              " 'mount': 326,\n",
              " 'headless': 327,\n",
              " 'horse': 328,\n",
              " 'find': 329,\n",
              " 'your': 330,\n",
              " 'creases': 331,\n",
              " 'blame': 332,\n",
              " 'being': 333,\n",
              " 'happen': 334,\n",
              " 'prefer': 335,\n",
              " 'live': 336,\n",
              " 'flying': 337,\n",
              " 'bird': 338,\n",
              " 'flight': 339,\n",
              " 'resemble': 340,\n",
              " 'nothing': 341,\n",
              " 'ours': 342,\n",
              " 'johns': 343,\n",
              " 'bad': 344,\n",
              " 'farmer': 345,\n",
              " 'blaming': 346,\n",
              " 'him': 347,\n",
              " 'seem': 348,\n",
              " 'partial': 349,\n",
              " 'greatgrandmother': 350,\n",
              " 'could': 351,\n",
              " 'cared': 352,\n",
              " 'himself': 353,\n",
              " 'poor': 354,\n",
              " 'man': 355,\n",
              " 'been': 356,\n",
              " 'piano': 357,\n",
              " 'new': 358,\n",
              " 'paint': 359,\n",
              " 'back': 360,\n",
              " 'despite': 361,\n",
              " 'lion': 362,\n",
              " 'an': 363,\n",
              " 'endless': 364,\n",
              " 'theme': 365,\n",
              " 'praise': 366,\n",
              " 'which': 367,\n",
              " 'silence': 368,\n",
              " 'place': 369,\n",
              " 'virgin': 370,\n",
              " 'wrapper': 371,\n",
              " 'deep': 372,\n",
              " 'box': 373,\n",
              " 'know': 374,\n",
              " 'raining': 375,\n",
              " 'wonder': 376,\n",
              " 'hes': 377,\n",
              " 'sold': 378,\n",
              " 'farm': 379,\n",
              " 'smoothlaid': 380,\n",
              " 'thatch': 381,\n",
              " 'heavy': 382,\n",
              " 'dew': 383,\n",
              " 'past': 384,\n",
              " 'get': 385,\n",
              " 'strangeness': 386,\n",
              " 'got': 387,\n",
              " 'backs': 388,\n",
              " 'saw': 389,\n",
              " 'once': 390,\n",
              " 'years': 391,\n",
              " 'ago': 392,\n",
              " 'violin': 393,\n",
              " 'son': 394,\n",
              " 'surprised': 395,\n",
              " 'came': 396,\n",
              " 'hand': 397,\n",
              " 'outstretched': 398,\n",
              " 'warren': 399,\n",
              " 'march': 400,\n",
              " 'meeting': 401,\n",
              " 'reason': 402,\n",
              " 'doubted': 403,\n",
              " 'should': 404,\n",
              " 'pallor': 405,\n",
              " 'strangely': 406,\n",
              " 'mistrust': 407,\n",
              " 'pit': 408,\n",
              " 'starks': 409,\n",
              " 'digged': 410,\n",
              " 'welcomed': 411,\n",
              " 'chance': 412,\n",
              " 'lave': 413,\n",
              " 'secret': 414,\n",
              " 'communing': 415,\n",
              " 'held': 416,\n",
              " 'ill': 417,\n",
              " 'show': 418,\n",
              " 'remember': 419,\n",
              " 'toffile': 420,\n",
              " 'agreed': 421,\n",
              " 'enough': 422,\n",
              " 'room': 423,\n",
              " 'before': 424,\n",
              " 'entablatures': 425,\n",
              " 'intertwine': 426,\n",
              " 'isnt': 427,\n",
              " 'hell': 428,\n",
              " 'said': 429,\n",
              " 'want': 430,\n",
              " 'buttonbox': 431,\n",
              " 'psyche': 432,\n",
              " 'uplifting': 433,\n",
              " 'finger': 434,\n",
              " 'eden': 435,\n",
              " 'bland': 436,\n",
              " 'repose': 437,\n",
              " 'among': 438,\n",
              " 'buttons': 439,\n",
              " 'poured': 440,\n",
              " 'stood': 441,\n",
              " 'stopped': 442,\n",
              " 'feet': 443,\n",
              " 'pale': 444,\n",
              " 'dim': 445,\n",
              " 'match': 446,\n",
              " 'flame': 447,\n",
              " 'oh': 448,\n",
              " 'miss': 449,\n",
              " 'those': 450,\n",
              " 'pure': 451,\n",
              " 'orbs': 452,\n",
              " 'learn': 453,\n",
              " 'soon': 454,\n",
              " 'satisfied': 455,\n",
              " 'without': 456,\n",
              " 'jerk': 457,\n",
              " 'twitch': 458,\n",
              " 'sake': 459,\n",
              " 'company': 460,\n",
              " 'hope': 461,\n",
              " 'tonight': 462,\n",
              " 'cellar': 463,\n",
              " 'these': 464,\n",
              " 'think': 465,\n",
              " 'thence': 466,\n",
              " 'sprung': 467,\n",
              " 'numerous': 468,\n",
              " 'tribe': 469,\n",
              " 'such': 470,\n",
              " 'worth': 471,\n",
              " 'mortgage': 472,\n",
              " 'asked': 473,\n",
              " 'anything': 474,\n",
              " 'say': 475,\n",
              " 'consideration': 476,\n",
              " 'made': 477,\n",
              " 'throw': 478,\n",
              " 'bare': 479,\n",
              " 'legs': 480,\n",
              " 'bed': 481,\n",
              " 'weak': 482,\n",
              " 'lines': 483,\n",
              " 'written': 484,\n",
              " 'wonted': 485,\n",
              " 'double': 486,\n",
              " 'theirs': 487,\n",
              " 'something': 488,\n",
              " 'theres': 489,\n",
              " 'harm': 490,\n",
              " 'half': 491,\n",
              " 'boring': 492,\n",
              " 'through': 493,\n",
              " 'climbing': 494,\n",
              " 'many': 495,\n",
              " 'thoughts': 496,\n",
              " 'entombed': 497,\n",
              " 'its': 498,\n",
              " 'own': 499,\n",
              " 'undone': 500,\n",
              " 'guide': 501,\n",
              " 'odorous': 502,\n",
              " 'souls': 503,\n",
              " 'ecstatic': 504,\n",
              " 'leaf': 505,\n",
              " 'lingered': 506,\n",
              " 'brown': 507,\n",
              " 'realms': 508,\n",
              " 'boreal': 509,\n",
              " 'pole': 510,\n",
              " 'began': 511,\n",
              " 'leaves': 512,\n",
              " 'crisped': 513,\n",
              " 'sere': 514,\n",
              " 'stone': 515,\n",
              " 'unprotected': 516,\n",
              " 'glass': 517,\n",
              " 'tottering': 518,\n",
              " 'whir': 519,\n",
              " 'sober': 520,\n",
              " 'birds': 521,\n",
              " 'often': 522,\n",
              " 'forget': 523,\n",
              " 'lone': 524,\n",
              " 'skyhigh': 525,\n",
              " 'can': 526,\n",
              " 'clear': 527,\n",
              " 'yet': 528,\n",
              " 'spirit': 529,\n",
              " 'knew': 530,\n",
              " 'hour': 531,\n",
              " 'quickening': 532,\n",
              " 'spell': 533,\n",
              " 'doth': 534,\n",
              " 'pass': 535,\n",
              " 'board': 536,\n",
              " 'laid': 537,\n",
              " 'walk': 538,\n",
              " 'dryshod': 539,\n",
              " 'wants': 540,\n",
              " 'hear': 541,\n",
              " 'news': 542,\n",
              " 'dreadful': 543,\n",
              " 'fool': 544,\n",
              " 'attempting': 545,\n",
              " 'stray': 546,\n",
              " 'disturbed': 547,\n",
              " 'israfelis': 548,\n",
              " 'fire': 549,\n",
              " 'havent': 550,\n",
              " 'dont': 551,\n",
              " 'o': 552,\n",
              " 'god': 553,\n",
              " 'funereal': 554,\n",
              " 'mind': 555,\n",
              " 'spare': 556,\n",
              " 'any': 557,\n",
              " 'trouble': 558,\n",
              " 'troubles': 559,\n",
              " 'ready': 560,\n",
              " 'outsiders': 561,\n",
              " 'truly': 562,\n",
              " 'earth': 563,\n",
              " 'misting': 564,\n",
              " 'people': 565,\n",
              " 'keep': 566,\n",
              " 'cant': 567,\n",
              " 'track': 568,\n",
              " 'other': 569,\n",
              " 'peoples': 570,\n",
              " 'daughters': 571,\n",
              " 'fly': 572,\n",
              " 'gives': 573,\n",
              " 'glimpses': 574,\n",
              " 'hall': 575,\n",
              " 'touch': 576,\n",
              " 'knows': 577,\n",
              " 'friends': 578,\n",
              " 'father': 579,\n",
              " 'neither': 580,\n",
              " 'need': 581,\n",
              " 'object': 582,\n",
              " 'hid': 583,\n",
              " 'pieces': 584,\n",
              " 'lately': 585,\n",
              " 'along': 586,\n",
              " 'shouting': 587,\n",
              " 'ralle': 588,\n",
              " 'sioux': 589,\n",
              " 'control': 590,\n",
              " 'shift': 591,\n",
              " 'shelter': 592,\n",
              " 'help': 593,\n",
              " 'nearest': 594,\n",
              " 'resembles': 595,\n",
              " 'worship': 596,\n",
              " 'nine': 597,\n",
              " 'swarm': 598,\n",
              " 'turned': 599,\n",
              " 'rock': 600,\n",
              " 'serial': 601,\n",
              " 'ordeal': 602,\n",
              " 'yes': 603,\n",
              " 'almost': 604,\n",
              " 'moment': 605,\n",
              " 'given': 606,\n",
              " 'opening': 607,\n",
              " 'visions': 608,\n",
              " 'consult': 609,\n",
              " 'voices': 610,\n",
              " 'might': 611,\n",
              " 'ice': 612,\n",
              " 'clothes': 613,\n",
              " 'around': 614,\n",
              " 'under': 615,\n",
              " 'warriors': 616,\n",
              " 'unknown': 617,\n",
              " 'foe': 618,\n",
              " 'safely': 619,\n",
              " 'may': 620,\n",
              " 'trust': 621,\n",
              " 'gleaming': 622,\n",
              " 'israfeli': 623,\n",
              " 'despisest': 624,\n",
              " 'lived': 625,\n",
              " 'lofty': 626,\n",
              " 'sorry': 627,\n",
              " 'travel': 628,\n",
              " 'four': 629,\n",
              " 'splinters': 630,\n",
              " 'prove': 631,\n",
              " 'sweetly': 632,\n",
              " 'scintillant': 633,\n",
              " 'charge': 634,\n",
              " 'upstart': 635,\n",
              " 'inexperience': 636,\n",
              " 'sort': 637,\n",
              " 'turn': 638,\n",
              " 'goodlooking': 639,\n",
              " 'books': 640,\n",
              " 'picked': 641,\n",
              " 'fresh': 642,\n",
              " 'gushing': 643,\n",
              " 'strange': 644,\n",
              " 'tears': 645,\n",
              " 'stretch': 646,\n",
              " 'hold': 647,\n",
              " 'highest': 648,\n",
              " 'feat': 649,\n",
              " 'heat': 650,\n",
              " 'slowly': 651,\n",
              " 'hazes': 652,\n",
              " 'common': 653,\n",
              " 'guess': 654,\n",
              " 'theyd': 655,\n",
              " 'better': 656,\n",
              " 'drag': 657,\n",
              " 'again': 658,\n",
              " 'gnaw': 659,\n",
              " 'trees': 660,\n",
              " 'posts': 661,\n",
              " 'fences': 662,\n",
              " 'pipes': 663,\n",
              " 'smoking': 664,\n",
              " 'jug': 665,\n",
              " 'last': 666,\n",
              " 'nights': 667,\n",
              " 'kiting': 668,\n",
              " 'seek': 669,\n",
              " 'treasure': 670,\n",
              " 'jewelled': 671,\n",
              " 'skies': 672,\n",
              " 'toward': 673,\n",
              " 'against': 674,\n",
              " 'blue': 675,\n",
              " 'eye': 676,\n",
              " 'someone': 677,\n",
              " 'bones': 678,\n",
              " 'liked': 679,\n",
              " 'attic': 680,\n",
              " 'soul': 681,\n",
              " 'filled': 682,\n",
              " 'purse': 683,\n",
              " 'beside': 684,\n",
              " 'leave': 685,\n",
              " 'trade': 686,\n",
              " 'mark': 687,\n",
              " 'theyll': 688,\n",
              " 'theyve': 689,\n",
              " 'whole': 690,\n",
              " 'thing': 691,\n",
              " 'quenching': 692,\n",
              " 'fires': 693,\n",
              " 'ashes': 694,\n",
              " 'hide': 695,\n",
              " 'lantern': 696,\n",
              " 'drop': 697,\n",
              " 'found': 698,\n",
              " 'gnawed': 699,\n",
              " 'changed': 700,\n",
              " 'gone': 701,\n",
              " 'garlands': 702,\n",
              " 'ask': 703,\n",
              " 'thrilling': 704,\n",
              " 'upon': 705,\n",
              " 'point': 706,\n",
              " 'path': 707,\n",
              " 'whence': 708,\n",
              " 'spring': 709,\n",
              " 'grow': 710,\n",
              " 'tender': 711,\n",
              " 'verse': 712,\n",
              " 'escaped': 713,\n",
              " 'outrage': 714,\n",
              " 'saved': 715,\n",
              " 'light': 716,\n",
              " 'going': 717,\n",
              " 'faith': 718,\n",
              " 'godliness': 719,\n",
              " 'provision': 720,\n",
              " 'invisible': 721,\n",
              " 'mounted': 722,\n",
              " 'except': 723,\n",
              " 'poetesss': 724,\n",
              " 'poems': 725,\n",
              " 'whirling': 726,\n",
              " 'frenzies': 727,\n",
              " 'tinkling': 728,\n",
              " 'youre': 729,\n",
              " 'yourself': 730,\n",
              " 'shook': 731,\n",
              " 'saying': 732,\n",
              " 'iles': 733,\n",
              " 'bells': 734,\n",
              " 'ah': 735,\n",
              " 'revels': 736,\n",
              " 'region': 737,\n",
              " 'sighs': 738,\n",
              " 'palsied': 739,\n",
              " 'free': 740,\n",
              " 'kick': 741,\n",
              " 'folks': 742,\n",
              " 'faces': 743,\n",
              " 'everything': 744,\n",
              " 'gave': 745,\n",
              " 'baby': 746,\n",
              " 'dead': 747,\n",
              " 'different': 748,\n",
              " 'least': 749,\n",
              " 'hitched': 750,\n",
              " 'unblanketed': 751,\n",
              " 'perish': 752,\n",
              " 'twice': 753,\n",
              " 'fell': 754,\n",
              " 'upturnd': 755,\n",
              " 'roses': 756,\n",
              " 'memory': 757,\n",
              " 'accursed': 758,\n",
              " 'ground': 759,\n",
              " 'neednt': 760,\n",
              " 'away': 761,\n",
              " 'iron': 762,\n",
              " 'ascending': 763,\n",
              " 'descend': 764,\n",
              " 'reascend': 765,\n",
              " 'wont': 766,\n",
              " 'mormon': 767,\n",
              " 'swimming': 768,\n",
              " 'three': 769,\n",
              " 'ye': 770,\n",
              " 'avengers': 771,\n",
              " 'libertys': 772,\n",
              " 'wrongs': 773,\n",
              " 'nova': 774,\n",
              " 'slightly': 775,\n",
              " 'sinking': 776,\n",
              " 'dull': 777,\n",
              " 'tide': 778,\n",
              " 'polish': 779,\n",
              " 'crust': 780,\n",
              " 'sculturd': 781,\n",
              " 'ivy': 782,\n",
              " 'standing': 783,\n",
              " 'richer': 784,\n",
              " 'wilder': 785,\n",
              " 'diviner': 786,\n",
              " 'lethean': 787,\n",
              " 'peace': 788,\n",
              " 'softmurmured': 789,\n",
              " 'fulfilled': 790,\n",
              " 'table': 791,\n",
              " 'rear': 792,\n",
              " 'till': 793,\n",
              " 'caught': 794,\n",
              " 'wind': 795,\n",
              " 'covers': 796,\n",
              " 'bush': 797,\n",
              " 'peas': 798,\n",
              " 'house': 799,\n",
              " 'yours': 800,\n",
              " 'stark': 801,\n",
              " 'houses': 802,\n",
              " 'conies': 803,\n",
              " 'romp': 804,\n",
              " 'winds': 805,\n",
              " 'woo': 806,\n",
              " 'ought': 807,\n",
              " 'purer': 808,\n",
              " 'oracle': 809,\n",
              " 'seraphic': 810,\n",
              " 'glancing': 811,\n",
              " 'eyes': 812,\n",
              " 'whats': 813,\n",
              " 'wanted': 814,\n",
              " 'someones': 815,\n",
              " 'road': 816,\n",
              " 'home': 817,\n",
              " 'work': 818,\n",
              " 'eightyfive': 819,\n",
              " 'stately': 820,\n",
              " 'easy': 821,\n",
              " 'downy': 822,\n",
              " 'flake': 823,\n",
              " 'village': 824,\n",
              " 'library': 825,\n",
              " 'fear': 826,\n",
              " 'treading': 827,\n",
              " 'springs': 828,\n",
              " 'neer': 829,\n",
              " 'flow': 830,\n",
              " 'sailed': 831,\n",
              " 'hoe': 832,\n",
              " 'spilled': 833,\n",
              " 'near': 834,\n",
              " 'window': 835,\n",
              " 'living': 836,\n",
              " 'serenest': 837,\n",
              " 'continually': 838,\n",
              " 'shoeing': 839,\n",
              " 'across': 840,\n",
              " 'white': 841,\n",
              " 'slight': 842,\n",
              " 'demand': 843,\n",
              " 'felt': 844,\n",
              " 'tug': 845,\n",
              " 'helping': 846,\n",
              " 'cruel': 847,\n",
              " 'signify': 848,\n",
              " 'donkeys': 849,\n",
              " 'cars': 850,\n",
              " 'bottle': 851,\n",
              " 'bless': 852,\n",
              " 'grandsir': 853,\n",
              " 'granny': 854,\n",
              " 'north': 855,\n",
              " 'south': 856,\n",
              " 'dispose': 857,\n",
              " 'either': 858,\n",
              " 'featherhammer': 859,\n",
              " 'deem': 860,\n",
              " 'wise': 861,\n",
              " 'coming': 862,\n",
              " 'myself': 863,\n",
              " 'harpstring': 864,\n",
              " 'broken': 865,\n",
              " 'first': 866,\n",
              " 'impulse': 867,\n",
              " 'knob': 868,\n",
              " 'turrettops': 869,\n",
              " 'fifty': 870,\n",
              " 'dollars': 871,\n",
              " 'langshang': 872,\n",
              " 'cock': 873,\n",
              " 'alterest': 874,\n",
              " 'things': 875,\n",
              " 'peering': 876,\n",
              " 'each': 877,\n",
              " 'wish': 878,\n",
              " 'alone': 879,\n",
              " 'undivided': 880,\n",
              " 'courting': 881,\n",
              " 'looking': 882,\n",
              " 'another': 883,\n",
              " 'try': 884,\n",
              " 'every': 885,\n",
              " 'lifelike': 886,\n",
              " 'posture': 887,\n",
              " 'times': 888,\n",
              " 'removed': 889,\n",
              " 'correct': 890,\n",
              " 'err': 891,\n",
              " 'sweet': 892,\n",
              " 'ere': 893,\n",
              " 'long': 894,\n",
              " 'passed': 895,\n",
              " 'vista': 896,\n",
              " 'beyond': 897,\n",
              " 'shattered': 898,\n",
              " 'seedpod': 899,\n",
              " 'science': 900,\n",
              " 'true': 901,\n",
              " 'daughter': 902,\n",
              " 'care': 903,\n",
              " 'wall': 904,\n",
              " 'burns': 905,\n",
              " 'sunny': 906,\n",
              " 'cheek': 907,\n",
              " 'further': 908,\n",
              " 'unearthly': 909,\n",
              " 'height': 910,\n",
              " 'put': 911,\n",
              " 'cliff': 912,\n",
              " 'painted': 913,\n",
              " 'within': 914,\n",
              " 'cannot': 915,\n",
              " 'shatter': 916,\n",
              " 'inward': 917,\n",
              " 'unswept': 918,\n",
              " 'floors': 919,\n",
              " 'transforming': 920,\n",
              " 'charms': 921,\n",
              " 'subsides': 922,\n",
              " 'ridiculous': 923,\n",
              " 'henceforth': 924,\n",
              " 'flowerenameled': 925,\n",
              " 'shore': 926,\n",
              " 'wentworth': 927,\n",
              " 'alls': 928,\n",
              " 'flickers': 929,\n",
              " 'sky': 930,\n",
              " 'future': 931,\n",
              " 'radiant': 932,\n",
              " 'shine': 933,\n",
              " 'gnaws': 934,\n",
              " 'stable': 935,\n",
              " 'aint': 936,\n",
              " 'proof': 937,\n",
              " 'thrown': 938,\n",
              " 'call': 939,\n",
              " 'nausicaa': 940,\n",
              " 'timber': 941,\n",
              " 'descended': 942,\n",
              " 'believe': 943,\n",
              " 'am': 944,\n",
              " 'passer': 945,\n",
              " 'today': 946,\n",
              " 'cypress': 947,\n",
              " 'roamed': 948,\n",
              " 'name': 949,\n",
              " 'names': 950,\n",
              " 'cheering': 951,\n",
              " 'song': 952,\n",
              " 'tamed': 953,\n",
              " 'primeval': 954,\n",
              " 'vault': 955,\n",
              " 'ulalume': 956,\n",
              " 'itd': 957,\n",
              " 'position': 958,\n",
              " 'stronger': 959,\n",
              " 'tomb': 960,\n",
              " 'poetry': 961,\n",
              " 'presence': 962,\n",
              " 'between': 963,\n",
              " 'frozen': 964,\n",
              " 'lake': 965,\n",
              " 'making': 966,\n",
              " 'allowance': 967,\n",
              " 'due': 968,\n",
              " 'picking': 969,\n",
              " 'faded': 970,\n",
              " 'having': 971,\n",
              " 'claim': 972,\n",
              " 'papered': 973,\n",
              " 'walls': 974,\n",
              " 'signals': 975,\n",
              " 'feel': 976,\n",
              " 'easier': 977,\n",
              " 'taken': 978,\n",
              " 'thus': 979,\n",
              " 'family': 980,\n",
              " 'nighttime': 981,\n",
              " 'summer': 982,\n",
              " 'davis': 983,\n",
              " 'bade': 984,\n",
              " 'graciously': 985,\n",
              " 'minute': 986,\n",
              " 'heard': 987,\n",
              " 'step': 988,\n",
              " 'herself': 989,\n",
              " 'best': 990,\n",
              " 'mask': 991,\n",
              " 'viol': 992,\n",
              " 'vine': 993,\n",
              " 'unhouse': 994,\n",
              " 'star': 995,\n",
              " 'fold': 996,\n",
              " 'ways': 997,\n",
              " 'hardly': 998,\n",
              " 'mad': 999,\n",
              " ...}"
            ]
          },
          "metadata": {},
          "execution_count": 214
        }
      ]
    },
    {
      "cell_type": "code",
      "source": [
        "len(word2idx)"
      ],
      "metadata": {
        "colab": {
          "base_uri": "https://localhost:8080/"
        },
        "id": "-RBUeB6JLKTZ",
        "outputId": "74b9f97c-fb45-454a-94d1-ecb8e3566900"
      },
      "execution_count": 215,
      "outputs": [
        {
          "output_type": "execute_result",
          "data": {
            "text/plain": [
              "2523"
            ]
          },
          "metadata": {},
          "execution_count": 215
        }
      ]
    },
    {
      "cell_type": "code",
      "source": [
        "# convert data into integer format\n",
        "train_text_int = []\n",
        "test_text_int = []\n",
        "\n",
        "for text in train_text:\n",
        "  tokens = text.split()\n",
        "  line_as_int = [word2idx[token] for token in tokens]\n",
        "  train_text_int.append(line_as_int)\n",
        "\n",
        "for text in test_text:\n",
        "  tokens = text.split()\n",
        "  line_as_int = [word2idx.get(token, 0) for token in tokens]\n",
        "  test_text_int.append(line_as_int)"
      ],
      "metadata": {
        "id": "tU41hDPrLTWC"
      },
      "execution_count": 216,
      "outputs": []
    },
    {
      "cell_type": "code",
      "source": [
        "train_text_int[100:105]"
      ],
      "metadata": {
        "colab": {
          "base_uri": "https://localhost:8080/"
        },
        "id": "eu2OgQ3nLVzl",
        "outputId": "e472fbd2-b0ba-4ddb-b1eb-9b761b9d3c3b"
      },
      "execution_count": 217,
      "outputs": [
        {
          "output_type": "execute_result",
          "data": {
            "text/plain": [
              "[[6, 387, 160, 55, 20, 244, 117, 388],\n",
              " [67, 389, 170, 390, 390, 169, 391, 392],\n",
              " [67, 159, 20, 263, 43, 4, 393],\n",
              " [394, 206, 395, 40, 144, 171, 238, 4, 140],\n",
              " [26, 232, 396, 289, 171, 80, 28, 397, 398]]"
            ]
          },
          "metadata": {},
          "execution_count": 217
        }
      ]
    },
    {
      "cell_type": "code",
      "source": [
        "# initialize A and pi matrices - for both classes\n",
        "V = len(word2idx)\n",
        "\n",
        "A0 = np.ones((V, V))\n",
        "pi0 = np.ones(V)\n",
        "\n",
        "A1 = np.ones((V, V))\n",
        "pi1 = np.ones(V)"
      ],
      "metadata": {
        "id": "G-z9LoB4LZTk"
      },
      "execution_count": 218,
      "outputs": []
    },
    {
      "cell_type": "code",
      "source": [
        "# compute counts for A and pi\n",
        "def compute_counts(text_as_int, A, pi):\n",
        "  for tokens in text_as_int:\n",
        "    last_idx = None\n",
        "    for idx in tokens:\n",
        "      if last_idx is None:\n",
        "        # it's the first word in a sentence\n",
        "        pi[idx] += 1\n",
        "      else:\n",
        "        # the last word exists, so count a transition\n",
        "        A[last_idx, idx] += 1\n",
        "\n",
        "      # update last idx\n",
        "      last_idx = idx\n",
        "\n",
        "\n",
        "compute_counts([t for t, y in zip(train_text_int, Ytrain) if y == 0], A0, pi0)\n",
        "compute_counts([t for t, y in zip(train_text_int, Ytrain) if y == 1], A1, pi1)"
      ],
      "metadata": {
        "id": "lUtrM6bLLdN3"
      },
      "execution_count": 219,
      "outputs": []
    },
    {
      "cell_type": "code",
      "source": [
        "# normalize A and pi so they are valid probability matrices\n",
        "# convince yourself that this is equivalent to the formulas shown before\n",
        "A0 /= A0.sum(axis=1, keepdims=True)\n",
        "pi0 /= pi0.sum()\n",
        "\n",
        "A1 /= A1.sum(axis=1, keepdims=True)\n",
        "pi1 /= pi1.sum()"
      ],
      "metadata": {
        "id": "ulo6DUqOLhEu"
      },
      "execution_count": 220,
      "outputs": []
    },
    {
      "cell_type": "code",
      "source": [
        "# log A and pi since we don't need the actual probs\n",
        "logA0 = np.log(A0)\n",
        "logpi0 = np.log(pi0)\n",
        "\n",
        "logA1 = np.log(A1)\n",
        "logpi1 = np.log(pi1)"
      ],
      "metadata": {
        "id": "P8R4vbkBLlk_"
      },
      "execution_count": 221,
      "outputs": []
    },
    {
      "cell_type": "code",
      "source": [
        "# compute priors\n",
        "count0 = sum(y == 0 for y in Ytrain)\n",
        "count1 = sum(y == 1 for y in Ytrain)\n",
        "total = len(Ytrain)\n",
        "p0 = count0 / total\n",
        "p1 = count1 / total\n",
        "logp0 = np.log(p0)\n",
        "logp1 = np.log(p1)\n",
        "p0, p1"
      ],
      "metadata": {
        "colab": {
          "base_uri": "https://localhost:8080/"
        },
        "id": "tGCindkJLpH1",
        "outputId": "52542167-1d26-4f01-a25e-d9ae00beaab0"
      },
      "execution_count": 222,
      "outputs": [
        {
          "output_type": "execute_result",
          "data": {
            "text/plain": [
              "(0.33126934984520123, 0.6687306501547987)"
            ]
          },
          "metadata": {},
          "execution_count": 222
        }
      ]
    },
    {
      "cell_type": "code",
      "source": [
        "# build a classifier\n",
        "class Classifier:\n",
        "  def __init__(self, logAs, logpis, logpriors):\n",
        "    self.logAs = logAs\n",
        "    self.logpis = logpis\n",
        "    self.logpriors = logpriors\n",
        "    self.K = len(logpriors) # number of classes\n",
        "\n",
        "  def _compute_log_likelihood(self, input_, class_):\n",
        "    logA = self.logAs[class_]\n",
        "    logpi = self.logpis[class_]\n",
        "\n",
        "    last_idx = None\n",
        "    logprob = 0\n",
        "    for idx in input_:\n",
        "      if last_idx is None:\n",
        "        # it's the first token\n",
        "        logprob += logpi[idx]\n",
        "      else:\n",
        "        logprob += logA[last_idx, idx]\n",
        "\n",
        "      # update last_idx\n",
        "      last_idx = idx\n",
        "\n",
        "    return logprob\n",
        "\n",
        "  def predict(self, inputs):\n",
        "    predictions = np.zeros(len(inputs))\n",
        "    for i, input_ in enumerate(inputs):\n",
        "      posteriors = [self._compute_log_likelihood(input_, c) + self.logpriors[c] \\\n",
        "             for c in range(self.K)]\n",
        "      pred = np.argmax(posteriors)\n",
        "      predictions[i] = pred\n",
        "    return predictions"
      ],
      "metadata": {
        "id": "eCwSrXLULs_P"
      },
      "execution_count": 223,
      "outputs": []
    },
    {
      "cell_type": "code",
      "source": [
        "# each array must be in order since classes are assumed to index these lists\n",
        "clf = Classifier([logA0, logA1], [logpi0, logpi1], [logp0, logp1])"
      ],
      "metadata": {
        "id": "cSLpIed0LzSX"
      },
      "execution_count": 224,
      "outputs": []
    },
    {
      "cell_type": "code",
      "source": [
        "Ptrain = clf.predict(train_text_int)\n",
        "print(f\"Train acc: {np.mean(Ptrain == Ytrain)}\")"
      ],
      "metadata": {
        "colab": {
          "base_uri": "https://localhost:8080/"
        },
        "id": "ZyCcmcmgL6YD",
        "outputId": "37d11faf-43c2-48dc-d823-693a0b05b02f"
      },
      "execution_count": 225,
      "outputs": [
        {
          "output_type": "stream",
          "name": "stdout",
          "text": [
            "Train acc: 0.9950464396284829\n"
          ]
        }
      ]
    },
    {
      "cell_type": "code",
      "source": [
        "Ptest = clf.predict(test_text_int)\n",
        "print(f\"Test acc: {np.mean(Ptest == Ytest)}\")"
      ],
      "metadata": {
        "colab": {
          "base_uri": "https://localhost:8080/"
        },
        "id": "bF74p5axL8hg",
        "outputId": "c95a0196-89e8-49a1-81a0-275411776d8d"
      },
      "execution_count": 226,
      "outputs": [
        {
          "output_type": "stream",
          "name": "stdout",
          "text": [
            "Test acc: 0.8367346938775511\n"
          ]
        }
      ]
    },
    {
      "cell_type": "code",
      "source": [
        "from sklearn.metrics import confusion_matrix, f1_score\n",
        "\n",
        "# read about F-score: https://en.wikipedia.org/wiki/F-score"
      ],
      "metadata": {
        "id": "4S8dlBNCL_l4"
      },
      "execution_count": 227,
      "outputs": []
    },
    {
      "cell_type": "code",
      "source": [
        "cm = confusion_matrix(Ytrain, Ptrain)\n",
        "cm"
      ],
      "metadata": {
        "colab": {
          "base_uri": "https://localhost:8080/"
        },
        "id": "MW3QiLbuMDkU",
        "outputId": "78cf86ea-4cde-44c5-aca2-3e6f57bd5156"
      },
      "execution_count": 228,
      "outputs": [
        {
          "output_type": "execute_result",
          "data": {
            "text/plain": [
              "array([[ 527,    8],\n",
              "       [   0, 1080]])"
            ]
          },
          "metadata": {},
          "execution_count": 228
        }
      ]
    },
    {
      "cell_type": "code",
      "source": [
        "cm_test = confusion_matrix(Ytest, Ptest)\n",
        "cm_test"
      ],
      "metadata": {
        "colab": {
          "base_uri": "https://localhost:8080/"
        },
        "id": "0snxtkFIMGGD",
        "outputId": "dcaed965-3330-47d2-c60f-025d53fb09aa"
      },
      "execution_count": 229,
      "outputs": [
        {
          "output_type": "execute_result",
          "data": {
            "text/plain": [
              "array([[102,  81],\n",
              "       [  7, 349]])"
            ]
          },
          "metadata": {},
          "execution_count": 229
        }
      ]
    },
    {
      "cell_type": "code",
      "source": [
        "'f1 score for pos_label = 1'\n",
        "f1_score(Ytrain, Ptrain)"
      ],
      "metadata": {
        "colab": {
          "base_uri": "https://localhost:8080/"
        },
        "id": "YbB2LQGVMJ53",
        "outputId": "594d91bb-e785-493a-d058-e76fe41171c1"
      },
      "execution_count": 230,
      "outputs": [
        {
          "output_type": "execute_result",
          "data": {
            "text/plain": [
              "0.996309963099631"
            ]
          },
          "metadata": {},
          "execution_count": 230
        }
      ]
    },
    {
      "cell_type": "code",
      "source": [
        "'f1 score simple average for pos_label = 0 and pos_label = 1'\n",
        "f1_score(Ytrain, Ptrain,average = 'macro')"
      ],
      "metadata": {
        "colab": {
          "base_uri": "https://localhost:8080/"
        },
        "id": "RNUjuMd4m3KT",
        "outputId": "49b6b3dc-b162-4a65-c830-477219ffee0e"
      },
      "execution_count": 231,
      "outputs": [
        {
          "output_type": "execute_result",
          "data": {
            "text/plain": [
              "0.9943885032070661"
            ]
          },
          "metadata": {},
          "execution_count": 231
        }
      ]
    },
    {
      "cell_type": "code",
      "source": [
        "'f1 score sample size weighted average for pos_label = 0 and pos_label = 1'\n",
        "f1_score(Ytrain, Ptrain,average = 'weighted')"
      ],
      "metadata": {
        "colab": {
          "base_uri": "https://localhost:8080/"
        },
        "id": "0B8GevPUmxkw",
        "outputId": "ff88fa28-7ca5-4f10-e67b-09446dfc3a10"
      },
      "execution_count": 232,
      "outputs": [
        {
          "output_type": "execute_result",
          "data": {
            "text/plain": [
              "0.9950369215609036"
            ]
          },
          "metadata": {},
          "execution_count": 232
        }
      ]
    },
    {
      "cell_type": "code",
      "source": [
        "'f1 score for pos_label = 1'\n",
        "f1_score(Ytest, Ptest)"
      ],
      "metadata": {
        "colab": {
          "base_uri": "https://localhost:8080/"
        },
        "id": "zGBoEP3nMNcH",
        "outputId": "5034a5b5-878d-43a8-a799-26c3c96ed668"
      },
      "execution_count": 233,
      "outputs": [
        {
          "output_type": "execute_result",
          "data": {
            "text/plain": [
              "0.8880407124681933"
            ]
          },
          "metadata": {},
          "execution_count": 233
        }
      ]
    },
    {
      "cell_type": "code",
      "source": [
        "'f1 score simple average for pos_label = 0 and pos_label = 1'\n",
        "f1_score(Ytest, Ptest,average = 'macro')"
      ],
      "metadata": {
        "colab": {
          "base_uri": "https://localhost:8080/"
        },
        "id": "w1CY9C-IlKND",
        "outputId": "58150279-2e63-4864-a3c5-4431f819b777"
      },
      "execution_count": 234,
      "outputs": [
        {
          "output_type": "execute_result",
          "data": {
            "text/plain": [
              "0.7933354247272473"
            ]
          },
          "metadata": {},
          "execution_count": 234
        }
      ]
    },
    {
      "cell_type": "code",
      "source": [
        "'f1 score sample size weighted average for pos_label = 0 and pos_label = 1'\n",
        "f1_score(Ytest, Ptest,average = 'weighted')"
      ],
      "metadata": {
        "colab": {
          "base_uri": "https://localhost:8080/"
        },
        "id": "L5c5BIk6nBxf",
        "outputId": "6a8edb41-490f-459b-ae61-0d7182fee978"
      },
      "execution_count": 235,
      "outputs": [
        {
          "output_type": "execute_result",
          "data": {
            "text/plain": [
              "0.8237324836867718"
            ]
          },
          "metadata": {},
          "execution_count": 235
        }
      ]
    },
    {
      "cell_type": "code",
      "source": [
        "'class wise label distribution in Ytest'\n",
        "count0 = sum(y == 0 for y in Ytest)\n",
        "count1 = sum(y == 1 for y in Ytest)\n",
        "n = len(Ytest)\n",
        "count0/n,count1/n"
      ],
      "metadata": {
        "colab": {
          "base_uri": "https://localhost:8080/"
        },
        "id": "nIuIzViQpt9Q",
        "outputId": "e838bd49-bf62-458a-9e5d-a34784a8727a"
      },
      "execution_count": 236,
      "outputs": [
        {
          "output_type": "execute_result",
          "data": {
            "text/plain": [
              "(0.3395176252319109, 0.660482374768089)"
            ]
          },
          "metadata": {},
          "execution_count": 236
        }
      ]
    },
    {
      "cell_type": "code",
      "source": [
        "'class wise label distribution in Ytrain'\n",
        "count0 = sum(y == 0 for y in Ytrain)\n",
        "count1 = sum(y == 1 for y in Ytrain)\n",
        "n = len(Ytrain)\n",
        "count0/n,count1/n"
      ],
      "metadata": {
        "colab": {
          "base_uri": "https://localhost:8080/"
        },
        "id": "vB-QRKqRrdRh",
        "outputId": "d7a7dae8-2fb4-4e80-f95b-7f62deb85f84"
      },
      "execution_count": 237,
      "outputs": [
        {
          "output_type": "execute_result",
          "data": {
            "text/plain": [
              "(0.33126934984520123, 0.6687306501547987)"
            ]
          },
          "metadata": {},
          "execution_count": 237
        }
      ]
    }
  ]
}