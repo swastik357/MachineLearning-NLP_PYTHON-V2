{
  "nbformat": 4,
  "nbformat_minor": 0,
  "metadata": {
    "colab": {
      "provenance": [],
      "gpuType": "T4"
    },
    "kernelspec": {
      "name": "python3",
      "display_name": "Python 3"
    },
    "language_info": {
      "name": "python"
    },
    "accelerator": "GPU"
  },
  "cells": [
    {
      "cell_type": "code",
      "execution_count": 4,
      "metadata": {
        "colab": {
          "base_uri": "https://localhost:8080/"
        },
        "id": "oBH31rdp6b3P",
        "outputId": "c09ff986-5f8b-4534-d8c0-3789bdfa4cfc"
      },
      "outputs": [
        {
          "output_type": "stream",
          "name": "stdout",
          "text": [
            "File ‘bbc_text_cls.csv’ already there; not retrieving.\n",
            "\n"
          ]
        }
      ],
      "source": [
        "# https://www.kaggle.com/shivamkushwaha/bbc-full-text-document-classification\n",
        "!wget -nc https://lazyprogrammer.me/course_files/nlp/bbc_text_cls.csv"
      ]
    },
    {
      "cell_type": "code",
      "source": [
        "import numpy as np\n",
        "import pandas as pd\n",
        "import tensorflow as tf\n",
        "import matplotlib.pyplot as plt\n",
        "from sklearn.model_selection import train_test_split\n",
        "\n",
        "from tensorflow.keras.preprocessing.text import Tokenizer\n",
        "from tensorflow.keras.preprocessing.sequence import pad_sequences\n",
        "from tensorflow.keras.layers import Dense, Input, GlobalMaxPooling1D\n",
        "from tensorflow.keras.layers import LSTM, GRU, SimpleRNN, Embedding\n",
        "from tensorflow.keras.models import Model\n",
        "from tensorflow.keras.losses import SparseCategoricalCrossentropy"
      ],
      "metadata": {
        "id": "UM43RaJT6owj"
      },
      "execution_count": 5,
      "outputs": []
    },
    {
      "cell_type": "code",
      "source": [
        "df = pd.read_csv('bbc_text_cls.csv')"
      ],
      "metadata": {
        "id": "iMtqWAej6sBJ"
      },
      "execution_count": 6,
      "outputs": []
    },
    {
      "cell_type": "code",
      "source": [
        "df.head()"
      ],
      "metadata": {
        "colab": {
          "base_uri": "https://localhost:8080/",
          "height": 206
        },
        "id": "us4k3ToVAdiK",
        "outputId": "8e2f7787-8b5c-47d0-eafa-8593ad000bae"
      },
      "execution_count": 7,
      "outputs": [
        {
          "output_type": "execute_result",
          "data": {
            "text/plain": [
              "                                                text    labels\n",
              "0  Ad sales boost Time Warner profit\\n\\nQuarterly...  business\n",
              "1  Dollar gains on Greenspan speech\\n\\nThe dollar...  business\n",
              "2  Yukos unit buyer faces loan claim\\n\\nThe owner...  business\n",
              "3  High fuel prices hit BA's profits\\n\\nBritish A...  business\n",
              "4  Pernod takeover talk lifts Domecq\\n\\nShares in...  business"
            ],
            "text/html": [
              "\n",
              "  <div id=\"df-d9394565-e4b8-43d7-820c-93e62cb577ed\" class=\"colab-df-container\">\n",
              "    <div>\n",
              "<style scoped>\n",
              "    .dataframe tbody tr th:only-of-type {\n",
              "        vertical-align: middle;\n",
              "    }\n",
              "\n",
              "    .dataframe tbody tr th {\n",
              "        vertical-align: top;\n",
              "    }\n",
              "\n",
              "    .dataframe thead th {\n",
              "        text-align: right;\n",
              "    }\n",
              "</style>\n",
              "<table border=\"1\" class=\"dataframe\">\n",
              "  <thead>\n",
              "    <tr style=\"text-align: right;\">\n",
              "      <th></th>\n",
              "      <th>text</th>\n",
              "      <th>labels</th>\n",
              "    </tr>\n",
              "  </thead>\n",
              "  <tbody>\n",
              "    <tr>\n",
              "      <th>0</th>\n",
              "      <td>Ad sales boost Time Warner profit\\n\\nQuarterly...</td>\n",
              "      <td>business</td>\n",
              "    </tr>\n",
              "    <tr>\n",
              "      <th>1</th>\n",
              "      <td>Dollar gains on Greenspan speech\\n\\nThe dollar...</td>\n",
              "      <td>business</td>\n",
              "    </tr>\n",
              "    <tr>\n",
              "      <th>2</th>\n",
              "      <td>Yukos unit buyer faces loan claim\\n\\nThe owner...</td>\n",
              "      <td>business</td>\n",
              "    </tr>\n",
              "    <tr>\n",
              "      <th>3</th>\n",
              "      <td>High fuel prices hit BA's profits\\n\\nBritish A...</td>\n",
              "      <td>business</td>\n",
              "    </tr>\n",
              "    <tr>\n",
              "      <th>4</th>\n",
              "      <td>Pernod takeover talk lifts Domecq\\n\\nShares in...</td>\n",
              "      <td>business</td>\n",
              "    </tr>\n",
              "  </tbody>\n",
              "</table>\n",
              "</div>\n",
              "    <div class=\"colab-df-buttons\">\n",
              "\n",
              "  <div class=\"colab-df-container\">\n",
              "    <button class=\"colab-df-convert\" onclick=\"convertToInteractive('df-d9394565-e4b8-43d7-820c-93e62cb577ed')\"\n",
              "            title=\"Convert this dataframe to an interactive table.\"\n",
              "            style=\"display:none;\">\n",
              "\n",
              "  <svg xmlns=\"http://www.w3.org/2000/svg\" height=\"24px\" viewBox=\"0 -960 960 960\">\n",
              "    <path d=\"M120-120v-720h720v720H120Zm60-500h600v-160H180v160Zm220 220h160v-160H400v160Zm0 220h160v-160H400v160ZM180-400h160v-160H180v160Zm440 0h160v-160H620v160ZM180-180h160v-160H180v160Zm440 0h160v-160H620v160Z\"/>\n",
              "  </svg>\n",
              "    </button>\n",
              "\n",
              "  <style>\n",
              "    .colab-df-container {\n",
              "      display:flex;\n",
              "      gap: 12px;\n",
              "    }\n",
              "\n",
              "    .colab-df-convert {\n",
              "      background-color: #E8F0FE;\n",
              "      border: none;\n",
              "      border-radius: 50%;\n",
              "      cursor: pointer;\n",
              "      display: none;\n",
              "      fill: #1967D2;\n",
              "      height: 32px;\n",
              "      padding: 0 0 0 0;\n",
              "      width: 32px;\n",
              "    }\n",
              "\n",
              "    .colab-df-convert:hover {\n",
              "      background-color: #E2EBFA;\n",
              "      box-shadow: 0px 1px 2px rgba(60, 64, 67, 0.3), 0px 1px 3px 1px rgba(60, 64, 67, 0.15);\n",
              "      fill: #174EA6;\n",
              "    }\n",
              "\n",
              "    .colab-df-buttons div {\n",
              "      margin-bottom: 4px;\n",
              "    }\n",
              "\n",
              "    [theme=dark] .colab-df-convert {\n",
              "      background-color: #3B4455;\n",
              "      fill: #D2E3FC;\n",
              "    }\n",
              "\n",
              "    [theme=dark] .colab-df-convert:hover {\n",
              "      background-color: #434B5C;\n",
              "      box-shadow: 0px 1px 3px 1px rgba(0, 0, 0, 0.15);\n",
              "      filter: drop-shadow(0px 1px 2px rgba(0, 0, 0, 0.3));\n",
              "      fill: #FFFFFF;\n",
              "    }\n",
              "  </style>\n",
              "\n",
              "    <script>\n",
              "      const buttonEl =\n",
              "        document.querySelector('#df-d9394565-e4b8-43d7-820c-93e62cb577ed button.colab-df-convert');\n",
              "      buttonEl.style.display =\n",
              "        google.colab.kernel.accessAllowed ? 'block' : 'none';\n",
              "\n",
              "      async function convertToInteractive(key) {\n",
              "        const element = document.querySelector('#df-d9394565-e4b8-43d7-820c-93e62cb577ed');\n",
              "        const dataTable =\n",
              "          await google.colab.kernel.invokeFunction('convertToInteractive',\n",
              "                                                    [key], {});\n",
              "        if (!dataTable) return;\n",
              "\n",
              "        const docLinkHtml = 'Like what you see? Visit the ' +\n",
              "          '<a target=\"_blank\" href=https://colab.research.google.com/notebooks/data_table.ipynb>data table notebook</a>'\n",
              "          + ' to learn more about interactive tables.';\n",
              "        element.innerHTML = '';\n",
              "        dataTable['output_type'] = 'display_data';\n",
              "        await google.colab.output.renderOutput(dataTable, element);\n",
              "        const docLink = document.createElement('div');\n",
              "        docLink.innerHTML = docLinkHtml;\n",
              "        element.appendChild(docLink);\n",
              "      }\n",
              "    </script>\n",
              "  </div>\n",
              "\n",
              "\n",
              "<div id=\"df-d11490b1-f174-4e49-9007-47ec2b5d779a\">\n",
              "  <button class=\"colab-df-quickchart\" onclick=\"quickchart('df-d11490b1-f174-4e49-9007-47ec2b5d779a')\"\n",
              "            title=\"Suggest charts\"\n",
              "            style=\"display:none;\">\n",
              "\n",
              "<svg xmlns=\"http://www.w3.org/2000/svg\" height=\"24px\"viewBox=\"0 0 24 24\"\n",
              "     width=\"24px\">\n",
              "    <g>\n",
              "        <path d=\"M19 3H5c-1.1 0-2 .9-2 2v14c0 1.1.9 2 2 2h14c1.1 0 2-.9 2-2V5c0-1.1-.9-2-2-2zM9 17H7v-7h2v7zm4 0h-2V7h2v10zm4 0h-2v-4h2v4z\"/>\n",
              "    </g>\n",
              "</svg>\n",
              "  </button>\n",
              "\n",
              "<style>\n",
              "  .colab-df-quickchart {\n",
              "      --bg-color: #E8F0FE;\n",
              "      --fill-color: #1967D2;\n",
              "      --hover-bg-color: #E2EBFA;\n",
              "      --hover-fill-color: #174EA6;\n",
              "      --disabled-fill-color: #AAA;\n",
              "      --disabled-bg-color: #DDD;\n",
              "  }\n",
              "\n",
              "  [theme=dark] .colab-df-quickchart {\n",
              "      --bg-color: #3B4455;\n",
              "      --fill-color: #D2E3FC;\n",
              "      --hover-bg-color: #434B5C;\n",
              "      --hover-fill-color: #FFFFFF;\n",
              "      --disabled-bg-color: #3B4455;\n",
              "      --disabled-fill-color: #666;\n",
              "  }\n",
              "\n",
              "  .colab-df-quickchart {\n",
              "    background-color: var(--bg-color);\n",
              "    border: none;\n",
              "    border-radius: 50%;\n",
              "    cursor: pointer;\n",
              "    display: none;\n",
              "    fill: var(--fill-color);\n",
              "    height: 32px;\n",
              "    padding: 0;\n",
              "    width: 32px;\n",
              "  }\n",
              "\n",
              "  .colab-df-quickchart:hover {\n",
              "    background-color: var(--hover-bg-color);\n",
              "    box-shadow: 0 1px 2px rgba(60, 64, 67, 0.3), 0 1px 3px 1px rgba(60, 64, 67, 0.15);\n",
              "    fill: var(--button-hover-fill-color);\n",
              "  }\n",
              "\n",
              "  .colab-df-quickchart-complete:disabled,\n",
              "  .colab-df-quickchart-complete:disabled:hover {\n",
              "    background-color: var(--disabled-bg-color);\n",
              "    fill: var(--disabled-fill-color);\n",
              "    box-shadow: none;\n",
              "  }\n",
              "\n",
              "  .colab-df-spinner {\n",
              "    border: 2px solid var(--fill-color);\n",
              "    border-color: transparent;\n",
              "    border-bottom-color: var(--fill-color);\n",
              "    animation:\n",
              "      spin 1s steps(1) infinite;\n",
              "  }\n",
              "\n",
              "  @keyframes spin {\n",
              "    0% {\n",
              "      border-color: transparent;\n",
              "      border-bottom-color: var(--fill-color);\n",
              "      border-left-color: var(--fill-color);\n",
              "    }\n",
              "    20% {\n",
              "      border-color: transparent;\n",
              "      border-left-color: var(--fill-color);\n",
              "      border-top-color: var(--fill-color);\n",
              "    }\n",
              "    30% {\n",
              "      border-color: transparent;\n",
              "      border-left-color: var(--fill-color);\n",
              "      border-top-color: var(--fill-color);\n",
              "      border-right-color: var(--fill-color);\n",
              "    }\n",
              "    40% {\n",
              "      border-color: transparent;\n",
              "      border-right-color: var(--fill-color);\n",
              "      border-top-color: var(--fill-color);\n",
              "    }\n",
              "    60% {\n",
              "      border-color: transparent;\n",
              "      border-right-color: var(--fill-color);\n",
              "    }\n",
              "    80% {\n",
              "      border-color: transparent;\n",
              "      border-right-color: var(--fill-color);\n",
              "      border-bottom-color: var(--fill-color);\n",
              "    }\n",
              "    90% {\n",
              "      border-color: transparent;\n",
              "      border-bottom-color: var(--fill-color);\n",
              "    }\n",
              "  }\n",
              "</style>\n",
              "\n",
              "  <script>\n",
              "    async function quickchart(key) {\n",
              "      const quickchartButtonEl =\n",
              "        document.querySelector('#' + key + ' button');\n",
              "      quickchartButtonEl.disabled = true;  // To prevent multiple clicks.\n",
              "      quickchartButtonEl.classList.add('colab-df-spinner');\n",
              "      try {\n",
              "        const charts = await google.colab.kernel.invokeFunction(\n",
              "            'suggestCharts', [key], {});\n",
              "      } catch (error) {\n",
              "        console.error('Error during call to suggestCharts:', error);\n",
              "      }\n",
              "      quickchartButtonEl.classList.remove('colab-df-spinner');\n",
              "      quickchartButtonEl.classList.add('colab-df-quickchart-complete');\n",
              "    }\n",
              "    (() => {\n",
              "      let quickchartButtonEl =\n",
              "        document.querySelector('#df-d11490b1-f174-4e49-9007-47ec2b5d779a button');\n",
              "      quickchartButtonEl.style.display =\n",
              "        google.colab.kernel.accessAllowed ? 'block' : 'none';\n",
              "    })();\n",
              "  </script>\n",
              "</div>\n",
              "\n",
              "    </div>\n",
              "  </div>\n"
            ]
          },
          "metadata": {},
          "execution_count": 7
        }
      ]
    },
    {
      "cell_type": "code",
      "source": [
        "df['targets'] = df['labels'].astype(\"category\").cat.codes"
      ],
      "metadata": {
        "id": "MhKV-K5OAf9W"
      },
      "execution_count": 8,
      "outputs": []
    },
    {
      "cell_type": "code",
      "source": [
        "# number of classes\n",
        "K = df['targets'].max() + 1\n",
        "K"
      ],
      "metadata": {
        "colab": {
          "base_uri": "https://localhost:8080/"
        },
        "id": "hvTvDgJfAkLq",
        "outputId": "281459f4-6a08-4e38-aff5-dea97ca22cf6"
      },
      "execution_count": 9,
      "outputs": [
        {
          "output_type": "execute_result",
          "data": {
            "text/plain": [
              "5"
            ]
          },
          "metadata": {},
          "execution_count": 9
        }
      ]
    },
    {
      "cell_type": "code",
      "source": [
        "df_train, df_test = train_test_split(df, test_size=0.3)"
      ],
      "metadata": {
        "id": "2U5EfPRfAnAo"
      },
      "execution_count": 10,
      "outputs": []
    },
    {
      "cell_type": "code",
      "source": [
        "# Convert sentences to sequences\n",
        "MAX_VOCAB_SIZE = 2000\n",
        "tokenizer = Tokenizer(num_words=MAX_VOCAB_SIZE)\n",
        "tokenizer.fit_on_texts(df_train['text'])\n",
        "sequences_train = tokenizer.texts_to_sequences(df_train['text'])\n",
        "sequences_test = tokenizer.texts_to_sequences(df_test['text'])"
      ],
      "metadata": {
        "id": "71fj5-aHApiY"
      },
      "execution_count": 11,
      "outputs": []
    },
    {
      "cell_type": "code",
      "source": [
        "# get word -> integer mapping\n",
        "word2idx = tokenizer.word_index\n",
        "V = len(word2idx)\n",
        "print('Found %s unique tokens.' % V)"
      ],
      "metadata": {
        "colab": {
          "base_uri": "https://localhost:8080/"
        },
        "id": "zoATARgbAr_8",
        "outputId": "d0e12286-00c7-4d2c-99c3-027250c9012e"
      },
      "execution_count": 12,
      "outputs": [
        {
          "output_type": "stream",
          "name": "stdout",
          "text": [
            "Found 28245 unique tokens.\n"
          ]
        }
      ]
    },
    {
      "cell_type": "code",
      "source": [
        "# pad sequences so that we get a N x T matrix\n",
        "data_train = pad_sequences(sequences_train)\n",
        "print('Shape of data train tensor:', data_train.shape)\n",
        "\n",
        "# get sequence length\n",
        "T = data_train.shape[1]"
      ],
      "metadata": {
        "colab": {
          "base_uri": "https://localhost:8080/"
        },
        "id": "ypaxNI7WAu6G",
        "outputId": "b7e62b8e-ef53-4ca2-81a8-c1e046523905"
      },
      "execution_count": 13,
      "outputs": [
        {
          "output_type": "stream",
          "name": "stdout",
          "text": [
            "Shape of data train tensor: (1557, 3486)\n"
          ]
        }
      ]
    },
    {
      "cell_type": "code",
      "source": [
        "data_test = pad_sequences(sequences_test, maxlen=T)\n",
        "print('Shape of data test tensor:', data_test.shape)"
      ],
      "metadata": {
        "colab": {
          "base_uri": "https://localhost:8080/"
        },
        "id": "qVn4SXbhAy-i",
        "outputId": "f5401246-c510-4138-8841-3b1785c633c3"
      },
      "execution_count": 14,
      "outputs": [
        {
          "output_type": "stream",
          "name": "stdout",
          "text": [
            "Shape of data test tensor: (668, 3486)\n"
          ]
        }
      ]
    },
    {
      "cell_type": "code",
      "source": [
        "# Create the model\n",
        "\n",
        "# We get to choose embedding dimensionality\n",
        "D = 20\n",
        "\n",
        "# Note: we actually want to the size of the embedding to (V + 1) x D,\n",
        "# because the first index starts from 1 and not 0.\n",
        "# Thus, if the final index of the embedding matrix is V,\n",
        "# then it actually must have size V + 1.\n",
        "\n",
        "i = Input(shape=(T,))\n",
        "x = Embedding(V + 1, D)(i)\n",
        "x = LSTM(32, return_sequences=True)(x)\n",
        "x = GlobalMaxPooling1D()(x)\n",
        "x = Dense(K)(x)\n",
        "\n",
        "model = Model(i, x)"
      ],
      "metadata": {
        "id": "QcO75MGgA3qi"
      },
      "execution_count": 15,
      "outputs": []
    },
    {
      "cell_type": "code",
      "source": [
        "# Exercise: try other models\n",
        "# 1) multiple LSTM layers\n",
        "# 2) GRU instead of LSTM\n",
        "# 3) SimpleRNN instead of LSTM\n",
        "# 4) return_sequences=False, and no maxpool\n",
        "# 5) For 1-4, try different values of number of hidden units\n",
        "# 6) Combinations of the above\n",
        "\n",
        "# Common beginner question:\n",
        "# \"how can I choose the best combination of hyperparameters?\"\n",
        "# This is how! There is no shortcut!"
      ],
      "metadata": {
        "id": "BzlY7_-XA9AN"
      },
      "execution_count": 16,
      "outputs": []
    },
    {
      "cell_type": "code",
      "source": [
        "# Compile and fit\n",
        "model.compile(\n",
        "  loss=SparseCategoricalCrossentropy(from_logits=True),\n",
        "  optimizer='adam',\n",
        "  metrics=['accuracy']\n",
        ")\n",
        "\n",
        "\n",
        "print('Training model...')\n",
        "r = model.fit(\n",
        "  data_train,\n",
        "  df_train['targets'],\n",
        "  epochs=50,\n",
        "  validation_data=(data_test, df_test['targets'])\n",
        ")"
      ],
      "metadata": {
        "colab": {
          "base_uri": "https://localhost:8080/"
        },
        "id": "oG8dOz3fBBmP",
        "outputId": "f22bd968-622a-468b-9304-f80a71c3658a"
      },
      "execution_count": 17,
      "outputs": [
        {
          "output_type": "stream",
          "name": "stdout",
          "text": [
            "Training model...\n",
            "Epoch 1/50\n",
            "49/49 [==============================] - 19s 296ms/step - loss: 1.5987 - accuracy: 0.2685 - val_loss: 1.5819 - val_accuracy: 0.2320\n",
            "Epoch 2/50\n",
            "49/49 [==============================] - 13s 255ms/step - loss: 1.5294 - accuracy: 0.3821 - val_loss: 1.3707 - val_accuracy: 0.4177\n",
            "Epoch 3/50\n",
            "49/49 [==============================] - 11s 231ms/step - loss: 1.3374 - accuracy: 0.3963 - val_loss: 1.1951 - val_accuracy: 0.4536\n",
            "Epoch 4/50\n",
            "49/49 [==============================] - 10s 209ms/step - loss: 1.0625 - accuracy: 0.5755 - val_loss: 1.0151 - val_accuracy: 0.5973\n",
            "Epoch 5/50\n",
            "49/49 [==============================] - 10s 191ms/step - loss: 0.8974 - accuracy: 0.7367 - val_loss: 1.0265 - val_accuracy: 0.7380\n",
            "Epoch 6/50\n",
            "49/49 [==============================] - 9s 176ms/step - loss: 0.7863 - accuracy: 0.8773 - val_loss: 0.7278 - val_accuracy: 0.8608\n",
            "Epoch 7/50\n",
            "49/49 [==============================] - 7s 138ms/step - loss: 0.5824 - accuracy: 0.9261 - val_loss: 0.5802 - val_accuracy: 0.8937\n",
            "Epoch 8/50\n",
            "49/49 [==============================] - 8s 165ms/step - loss: 0.4406 - accuracy: 0.9493 - val_loss: 0.4846 - val_accuracy: 0.9222\n",
            "Epoch 9/50\n",
            "49/49 [==============================] - 7s 147ms/step - loss: 0.3674 - accuracy: 0.9409 - val_loss: 0.4506 - val_accuracy: 0.8847\n",
            "Epoch 10/50\n",
            "49/49 [==============================] - 7s 145ms/step - loss: 0.3368 - accuracy: 0.9461 - val_loss: 0.6284 - val_accuracy: 0.8488\n",
            "Epoch 11/50\n",
            "49/49 [==============================] - 7s 149ms/step - loss: 0.3636 - accuracy: 0.9274 - val_loss: 0.2743 - val_accuracy: 0.9356\n",
            "Epoch 12/50\n",
            "49/49 [==============================] - 6s 128ms/step - loss: 0.1776 - accuracy: 0.9743 - val_loss: 0.4762 - val_accuracy: 0.8398\n",
            "Epoch 13/50\n",
            "49/49 [==============================] - 8s 157ms/step - loss: 0.2241 - accuracy: 0.9557 - val_loss: 0.3053 - val_accuracy: 0.9222\n",
            "Epoch 14/50\n",
            "49/49 [==============================] - 8s 165ms/step - loss: 0.1290 - accuracy: 0.9839 - val_loss: 0.2880 - val_accuracy: 0.9117\n",
            "Epoch 15/50\n",
            "49/49 [==============================] - 6s 119ms/step - loss: 0.0970 - accuracy: 0.9839 - val_loss: 0.2375 - val_accuracy: 0.9371\n",
            "Epoch 16/50\n",
            "49/49 [==============================] - 7s 150ms/step - loss: 0.1196 - accuracy: 0.9762 - val_loss: 0.2070 - val_accuracy: 0.9341\n",
            "Epoch 17/50\n",
            "49/49 [==============================] - 7s 134ms/step - loss: 0.0661 - accuracy: 0.9910 - val_loss: 0.1950 - val_accuracy: 0.9401\n",
            "Epoch 18/50\n",
            "49/49 [==============================] - 7s 133ms/step - loss: 0.0625 - accuracy: 0.9917 - val_loss: 0.3294 - val_accuracy: 0.9072\n",
            "Epoch 19/50\n",
            "49/49 [==============================] - 7s 138ms/step - loss: 0.0702 - accuracy: 0.9852 - val_loss: 0.3311 - val_accuracy: 0.8862\n",
            "Epoch 20/50\n",
            "49/49 [==============================] - 6s 123ms/step - loss: 0.0792 - accuracy: 0.9807 - val_loss: 0.2248 - val_accuracy: 0.9326\n",
            "Epoch 21/50\n",
            "49/49 [==============================] - 6s 122ms/step - loss: 0.0440 - accuracy: 0.9968 - val_loss: 0.2191 - val_accuracy: 0.9371\n",
            "Epoch 22/50\n",
            "49/49 [==============================] - 7s 141ms/step - loss: 0.0317 - accuracy: 0.9974 - val_loss: 0.2305 - val_accuracy: 0.9341\n",
            "Epoch 23/50\n",
            "49/49 [==============================] - 6s 121ms/step - loss: 0.0260 - accuracy: 0.9987 - val_loss: 0.2287 - val_accuracy: 0.9401\n",
            "Epoch 24/50\n",
            "49/49 [==============================] - 6s 131ms/step - loss: 0.0401 - accuracy: 0.9929 - val_loss: 0.2755 - val_accuracy: 0.9237\n",
            "Epoch 25/50\n",
            "49/49 [==============================] - 6s 124ms/step - loss: 0.0419 - accuracy: 0.9904 - val_loss: 0.2611 - val_accuracy: 0.9251\n",
            "Epoch 26/50\n",
            "49/49 [==============================] - 7s 137ms/step - loss: 0.0289 - accuracy: 0.9955 - val_loss: 0.2153 - val_accuracy: 0.9371\n",
            "Epoch 27/50\n",
            "49/49 [==============================] - 6s 122ms/step - loss: 0.0226 - accuracy: 0.9974 - val_loss: 0.2306 - val_accuracy: 0.9356\n",
            "Epoch 28/50\n",
            "49/49 [==============================] - 7s 148ms/step - loss: 0.0934 - accuracy: 0.9711 - val_loss: 0.2323 - val_accuracy: 0.9401\n",
            "Epoch 29/50\n",
            "49/49 [==============================] - 6s 122ms/step - loss: 0.0454 - accuracy: 0.9936 - val_loss: 0.1720 - val_accuracy: 0.9491\n",
            "Epoch 30/50\n",
            "49/49 [==============================] - 6s 128ms/step - loss: 0.0209 - accuracy: 0.9987 - val_loss: 0.1726 - val_accuracy: 0.9461\n",
            "Epoch 31/50\n",
            "49/49 [==============================] - 6s 126ms/step - loss: 0.0163 - accuracy: 0.9987 - val_loss: 0.1839 - val_accuracy: 0.9416\n",
            "Epoch 32/50\n",
            "49/49 [==============================] - 6s 127ms/step - loss: 0.0124 - accuracy: 0.9994 - val_loss: 0.2002 - val_accuracy: 0.9386\n",
            "Epoch 33/50\n",
            "49/49 [==============================] - 6s 125ms/step - loss: 0.0113 - accuracy: 0.9987 - val_loss: 0.2087 - val_accuracy: 0.9386\n",
            "Epoch 34/50\n",
            "49/49 [==============================] - 7s 144ms/step - loss: 0.0101 - accuracy: 0.9994 - val_loss: 0.2155 - val_accuracy: 0.9431\n",
            "Epoch 35/50\n",
            "49/49 [==============================] - 6s 115ms/step - loss: 0.0091 - accuracy: 0.9994 - val_loss: 0.2186 - val_accuracy: 0.9416\n",
            "Epoch 36/50\n",
            "49/49 [==============================] - 6s 126ms/step - loss: 0.0083 - accuracy: 0.9994 - val_loss: 0.2169 - val_accuracy: 0.9446\n",
            "Epoch 37/50\n",
            "49/49 [==============================] - 5s 109ms/step - loss: 0.0076 - accuracy: 0.9994 - val_loss: 0.2176 - val_accuracy: 0.9461\n",
            "Epoch 38/50\n",
            "49/49 [==============================] - 6s 132ms/step - loss: 0.0071 - accuracy: 0.9994 - val_loss: 0.2269 - val_accuracy: 0.9446\n",
            "Epoch 39/50\n",
            "49/49 [==============================] - 5s 105ms/step - loss: 0.0077 - accuracy: 0.9987 - val_loss: 0.4743 - val_accuracy: 0.8458\n",
            "Epoch 40/50\n",
            "49/49 [==============================] - 6s 118ms/step - loss: 0.1675 - accuracy: 0.9409 - val_loss: 0.2789 - val_accuracy: 0.9147\n",
            "Epoch 41/50\n",
            "49/49 [==============================] - 6s 132ms/step - loss: 0.0337 - accuracy: 0.9955 - val_loss: 0.2585 - val_accuracy: 0.9266\n",
            "Epoch 42/50\n",
            "49/49 [==============================] - 6s 118ms/step - loss: 0.0226 - accuracy: 0.9974 - val_loss: 0.2473 - val_accuracy: 0.9311\n",
            "Epoch 43/50\n",
            "49/49 [==============================] - 6s 122ms/step - loss: 0.0163 - accuracy: 0.9994 - val_loss: 0.2463 - val_accuracy: 0.9296\n",
            "Epoch 44/50\n",
            "49/49 [==============================] - 6s 117ms/step - loss: 0.0161 - accuracy: 0.9987 - val_loss: 0.2423 - val_accuracy: 0.9341\n",
            "Epoch 45/50\n",
            "49/49 [==============================] - 6s 125ms/step - loss: 0.0120 - accuracy: 0.9994 - val_loss: 0.2460 - val_accuracy: 0.9341\n",
            "Epoch 46/50\n",
            "49/49 [==============================] - 5s 111ms/step - loss: 0.0102 - accuracy: 1.0000 - val_loss: 0.2473 - val_accuracy: 0.9401\n",
            "Epoch 47/50\n",
            "49/49 [==============================] - 6s 130ms/step - loss: 0.0092 - accuracy: 1.0000 - val_loss: 0.2550 - val_accuracy: 0.9371\n",
            "Epoch 48/50\n",
            "49/49 [==============================] - 6s 118ms/step - loss: 0.0082 - accuracy: 1.0000 - val_loss: 0.2617 - val_accuracy: 0.9356\n",
            "Epoch 49/50\n",
            "49/49 [==============================] - 6s 127ms/step - loss: 0.0074 - accuracy: 1.0000 - val_loss: 0.2637 - val_accuracy: 0.9341\n",
            "Epoch 50/50\n",
            "49/49 [==============================] - 6s 122ms/step - loss: 0.0068 - accuracy: 1.0000 - val_loss: 0.2509 - val_accuracy: 0.9341\n"
          ]
        }
      ]
    },
    {
      "cell_type": "code",
      "source": [
        "# Plot loss per iteration\n",
        "plt.plot(r.history['loss'], label='train loss')\n",
        "plt.plot(r.history['val_loss'], label='val loss')\n",
        "plt.legend();"
      ],
      "metadata": {
        "colab": {
          "base_uri": "https://localhost:8080/",
          "height": 430
        },
        "id": "1FwNlPt2BIRk",
        "outputId": "e1da5266-35a2-4048-b4fc-735c49e5a3f2"
      },
      "execution_count": 18,
      "outputs": [
        {
          "output_type": "display_data",
          "data": {
            "text/plain": [
              "<Figure size 640x480 with 1 Axes>"
            ],
            "image/png": "[encoded data removed]"
          },
          "metadata": {}
        }
      ]
    },
    {
      "cell_type": "code",
      "source": [
        "# Plot accuracy per iteration\n",
        "plt.plot(r.history['accuracy'], label='train acc')\n",
        "plt.plot(r.history['val_accuracy'], label='val acc')\n",
        "plt.legend();"
      ],
      "metadata": {
        "colab": {
          "base_uri": "https://localhost:8080/",
          "height": 430
        },
        "id": "zi7aAFKWBNOP",
        "outputId": "eb01d832-ecfe-4625-de3f-fd634dd9dc50"
      },
      "execution_count": 19,
      "outputs": [
        {
          "output_type": "display_data",
          "data": {
            "text/plain": [
              "<Figure size 640x480 with 1 Axes>"
            ],
            "image/png": "[encoded data removed]"
          },
          "metadata": {}
        }
      ]
    }
  ]
}