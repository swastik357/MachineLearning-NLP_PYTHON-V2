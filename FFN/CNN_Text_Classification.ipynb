{
  "nbformat": 4,
  "nbformat_minor": 0,
  "metadata": {
    "colab": {
      "provenance": []
    },
    "kernelspec": {
      "name": "python3",
      "display_name": "Python 3"
    },
    "language_info": {
      "name": "python"
    }
  },
  "cells": [
    {
      "cell_type": "code",
      "execution_count": 1,
      "metadata": {
        "colab": {
          "base_uri": "https://localhost:8080/"
        },
        "id": "jiqqNoqTJ2bA",
        "outputId": "67cb3e06-6d99-46df-9858-9dd6f8388797"
      },
      "outputs": [
        {
          "output_type": "stream",
          "name": "stdout",
          "text": [
            "--2023-12-30 21:13:27--  https://lazyprogrammer.me/course_files/nlp/bbc_text_cls.csv\n",
            "Resolving lazyprogrammer.me (lazyprogrammer.me)... 172.67.213.166, 104.21.23.210, 2606:4700:3031::6815:17d2, ...\n",
            "Connecting to lazyprogrammer.me (lazyprogrammer.me)|172.67.213.166|:443... connected.\n",
            "HTTP request sent, awaiting response... 403 Forbidden\n",
            "2023-12-30 21:13:27 ERROR 403: Forbidden.\n",
            "\n"
          ]
        }
      ],
      "source": [
        "# https://www.kaggle.com/shivamkushwaha/bbc-full-text-document-classification\n",
        "!wget -nc https://lazyprogrammer.me/course_files/nlp/bbc_text_cls.csv"
      ]
    },
    {
      "cell_type": "code",
      "source": [
        "import numpy as np\n",
        "import pandas as pd\n",
        "import tensorflow as tf\n",
        "import matplotlib.pyplot as plt\n",
        "from sklearn.model_selection import train_test_split\n",
        "\n",
        "from tensorflow.keras.preprocessing.text import Tokenizer\n",
        "from tensorflow.keras.preprocessing.sequence import pad_sequences\n",
        "from tensorflow.keras.layers import Dense, Input, GlobalMaxPooling1D\n",
        "from tensorflow.keras.layers import Conv1D, MaxPooling1D, Embedding\n",
        "from tensorflow.keras.models import Model\n",
        "from tensorflow.keras.losses import SparseCategoricalCrossentropy"
      ],
      "metadata": {
        "id": "eFeu4ieJfy2n"
      },
      "execution_count": 2,
      "outputs": []
    },
    {
      "cell_type": "code",
      "source": [
        "df = pd.read_csv('bbc_text_cls.csv')"
      ],
      "metadata": {
        "id": "rL6ERNNAfy8A"
      },
      "execution_count": 3,
      "outputs": []
    },
    {
      "cell_type": "code",
      "source": [
        "df.head()"
      ],
      "metadata": {
        "colab": {
          "base_uri": "https://localhost:8080/",
          "height": 206
        },
        "id": "9dfssKZ0fy-m",
        "outputId": "57cd619c-d303-479b-94ef-924610404309"
      },
      "execution_count": 4,
      "outputs": [
        {
          "output_type": "execute_result",
          "data": {
            "text/plain": [
              "                                                text    labels\n",
              "0  Ad sales boost Time Warner profit\\n\\nQuarterly...  business\n",
              "1  Dollar gains on Greenspan speech\\n\\nThe dollar...  business\n",
              "2  Yukos unit buyer faces loan claim\\n\\nThe owner...  business\n",
              "3  High fuel prices hit BA's profits\\n\\nBritish A...  business\n",
              "4  Pernod takeover talk lifts Domecq\\n\\nShares in...  business"
            ],
            "text/html": [
              "\n",
              "  <div id=\"df-e08bd585-d000-4dad-8cf6-ecd00813fc2f\" class=\"colab-df-container\">\n",
              "    <div>\n",
              "<style scoped>\n",
              "    .dataframe tbody tr th:only-of-type {\n",
              "        vertical-align: middle;\n",
              "    }\n",
              "\n",
              "    .dataframe tbody tr th {\n",
              "        vertical-align: top;\n",
              "    }\n",
              "\n",
              "    .dataframe thead th {\n",
              "        text-align: right;\n",
              "    }\n",
              "</style>\n",
              "<table border=\"1\" class=\"dataframe\">\n",
              "  <thead>\n",
              "    <tr style=\"text-align: right;\">\n",
              "      <th></th>\n",
              "      <th>text</th>\n",
              "      <th>labels</th>\n",
              "    </tr>\n",
              "  </thead>\n",
              "  <tbody>\n",
              "    <tr>\n",
              "      <th>0</th>\n",
              "      <td>Ad sales boost Time Warner profit\\n\\nQuarterly...</td>\n",
              "      <td>business</td>\n",
              "    </tr>\n",
              "    <tr>\n",
              "      <th>1</th>\n",
              "      <td>Dollar gains on Greenspan speech\\n\\nThe dollar...</td>\n",
              "      <td>business</td>\n",
              "    </tr>\n",
              "    <tr>\n",
              "      <th>2</th>\n",
              "      <td>Yukos unit buyer faces loan claim\\n\\nThe owner...</td>\n",
              "      <td>business</td>\n",
              "    </tr>\n",
              "    <tr>\n",
              "      <th>3</th>\n",
              "      <td>High fuel prices hit BA's profits\\n\\nBritish A...</td>\n",
              "      <td>business</td>\n",
              "    </tr>\n",
              "    <tr>\n",
              "      <th>4</th>\n",
              "      <td>Pernod takeover talk lifts Domecq\\n\\nShares in...</td>\n",
              "      <td>business</td>\n",
              "    </tr>\n",
              "  </tbody>\n",
              "</table>\n",
              "</div>\n",
              "    <div class=\"colab-df-buttons\">\n",
              "\n",
              "  <div class=\"colab-df-container\">\n",
              "    <button class=\"colab-df-convert\" onclick=\"convertToInteractive('df-e08bd585-d000-4dad-8cf6-ecd00813fc2f')\"\n",
              "            title=\"Convert this dataframe to an interactive table.\"\n",
              "            style=\"display:none;\">\n",
              "\n",
              "  <svg xmlns=\"http://www.w3.org/2000/svg\" height=\"24px\" viewBox=\"0 -960 960 960\">\n",
              "    <path d=\"M120-120v-720h720v720H120Zm60-500h600v-160H180v160Zm220 220h160v-160H400v160Zm0 220h160v-160H400v160ZM180-400h160v-160H180v160Zm440 0h160v-160H620v160ZM180-180h160v-160H180v160Zm440 0h160v-160H620v160Z\"/>\n",
              "  </svg>\n",
              "    </button>\n",
              "\n",
              "  <style>\n",
              "    .colab-df-container {\n",
              "      display:flex;\n",
              "      gap: 12px;\n",
              "    }\n",
              "\n",
              "    .colab-df-convert {\n",
              "      background-color: #E8F0FE;\n",
              "      border: none;\n",
              "      border-radius: 50%;\n",
              "      cursor: pointer;\n",
              "      display: none;\n",
              "      fill: #1967D2;\n",
              "      height: 32px;\n",
              "      padding: 0 0 0 0;\n",
              "      width: 32px;\n",
              "    }\n",
              "\n",
              "    .colab-df-convert:hover {\n",
              "      background-color: #E2EBFA;\n",
              "      box-shadow: 0px 1px 2px rgba(60, 64, 67, 0.3), 0px 1px 3px 1px rgba(60, 64, 67, 0.15);\n",
              "      fill: #174EA6;\n",
              "    }\n",
              "\n",
              "    .colab-df-buttons div {\n",
              "      margin-bottom: 4px;\n",
              "    }\n",
              "\n",
              "    [theme=dark] .colab-df-convert {\n",
              "      background-color: #3B4455;\n",
              "      fill: #D2E3FC;\n",
              "    }\n",
              "\n",
              "    [theme=dark] .colab-df-convert:hover {\n",
              "      background-color: #434B5C;\n",
              "      box-shadow: 0px 1px 3px 1px rgba(0, 0, 0, 0.15);\n",
              "      filter: drop-shadow(0px 1px 2px rgba(0, 0, 0, 0.3));\n",
              "      fill: #FFFFFF;\n",
              "    }\n",
              "  </style>\n",
              "\n",
              "    <script>\n",
              "      const buttonEl =\n",
              "        document.querySelector('#df-e08bd585-d000-4dad-8cf6-ecd00813fc2f button.colab-df-convert');\n",
              "      buttonEl.style.display =\n",
              "        google.colab.kernel.accessAllowed ? 'block' : 'none';\n",
              "\n",
              "      async function convertToInteractive(key) {\n",
              "        const element = document.querySelector('#df-e08bd585-d000-4dad-8cf6-ecd00813fc2f');\n",
              "        const dataTable =\n",
              "          await google.colab.kernel.invokeFunction('convertToInteractive',\n",
              "                                                    [key], {});\n",
              "        if (!dataTable) return;\n",
              "\n",
              "        const docLinkHtml = 'Like what you see? Visit the ' +\n",
              "          '<a target=\"_blank\" href=https://colab.research.google.com/notebooks/data_table.ipynb>data table notebook</a>'\n",
              "          + ' to learn more about interactive tables.';\n",
              "        element.innerHTML = '';\n",
              "        dataTable['output_type'] = 'display_data';\n",
              "        await google.colab.output.renderOutput(dataTable, element);\n",
              "        const docLink = document.createElement('div');\n",
              "        docLink.innerHTML = docLinkHtml;\n",
              "        element.appendChild(docLink);\n",
              "      }\n",
              "    </script>\n",
              "  </div>\n",
              "\n",
              "\n",
              "<div id=\"df-849e5e8d-adcf-4879-84f5-8d0f40a3d7d4\">\n",
              "  <button class=\"colab-df-quickchart\" onclick=\"quickchart('df-849e5e8d-adcf-4879-84f5-8d0f40a3d7d4')\"\n",
              "            title=\"Suggest charts\"\n",
              "            style=\"display:none;\">\n",
              "\n",
              "<svg xmlns=\"http://www.w3.org/2000/svg\" height=\"24px\"viewBox=\"0 0 24 24\"\n",
              "     width=\"24px\">\n",
              "    <g>\n",
              "        <path d=\"M19 3H5c-1.1 0-2 .9-2 2v14c0 1.1.9 2 2 2h14c1.1 0 2-.9 2-2V5c0-1.1-.9-2-2-2zM9 17H7v-7h2v7zm4 0h-2V7h2v10zm4 0h-2v-4h2v4z\"/>\n",
              "    </g>\n",
              "</svg>\n",
              "  </button>\n",
              "\n",
              "<style>\n",
              "  .colab-df-quickchart {\n",
              "      --bg-color: #E8F0FE;\n",
              "      --fill-color: #1967D2;\n",
              "      --hover-bg-color: #E2EBFA;\n",
              "      --hover-fill-color: #174EA6;\n",
              "      --disabled-fill-color: #AAA;\n",
              "      --disabled-bg-color: #DDD;\n",
              "  }\n",
              "\n",
              "  [theme=dark] .colab-df-quickchart {\n",
              "      --bg-color: #3B4455;\n",
              "      --fill-color: #D2E3FC;\n",
              "      --hover-bg-color: #434B5C;\n",
              "      --hover-fill-color: #FFFFFF;\n",
              "      --disabled-bg-color: #3B4455;\n",
              "      --disabled-fill-color: #666;\n",
              "  }\n",
              "\n",
              "  .colab-df-quickchart {\n",
              "    background-color: var(--bg-color);\n",
              "    border: none;\n",
              "    border-radius: 50%;\n",
              "    cursor: pointer;\n",
              "    display: none;\n",
              "    fill: var(--fill-color);\n",
              "    height: 32px;\n",
              "    padding: 0;\n",
              "    width: 32px;\n",
              "  }\n",
              "\n",
              "  .colab-df-quickchart:hover {\n",
              "    background-color: var(--hover-bg-color);\n",
              "    box-shadow: 0 1px 2px rgba(60, 64, 67, 0.3), 0 1px 3px 1px rgba(60, 64, 67, 0.15);\n",
              "    fill: var(--button-hover-fill-color);\n",
              "  }\n",
              "\n",
              "  .colab-df-quickchart-complete:disabled,\n",
              "  .colab-df-quickchart-complete:disabled:hover {\n",
              "    background-color: var(--disabled-bg-color);\n",
              "    fill: var(--disabled-fill-color);\n",
              "    box-shadow: none;\n",
              "  }\n",
              "\n",
              "  .colab-df-spinner {\n",
              "    border: 2px solid var(--fill-color);\n",
              "    border-color: transparent;\n",
              "    border-bottom-color: var(--fill-color);\n",
              "    animation:\n",
              "      spin 1s steps(1) infinite;\n",
              "  }\n",
              "\n",
              "  @keyframes spin {\n",
              "    0% {\n",
              "      border-color: transparent;\n",
              "      border-bottom-color: var(--fill-color);\n",
              "      border-left-color: var(--fill-color);\n",
              "    }\n",
              "    20% {\n",
              "      border-color: transparent;\n",
              "      border-left-color: var(--fill-color);\n",
              "      border-top-color: var(--fill-color);\n",
              "    }\n",
              "    30% {\n",
              "      border-color: transparent;\n",
              "      border-left-color: var(--fill-color);\n",
              "      border-top-color: var(--fill-color);\n",
              "      border-right-color: var(--fill-color);\n",
              "    }\n",
              "    40% {\n",
              "      border-color: transparent;\n",
              "      border-right-color: var(--fill-color);\n",
              "      border-top-color: var(--fill-color);\n",
              "    }\n",
              "    60% {\n",
              "      border-color: transparent;\n",
              "      border-right-color: var(--fill-color);\n",
              "    }\n",
              "    80% {\n",
              "      border-color: transparent;\n",
              "      border-right-color: var(--fill-color);\n",
              "      border-bottom-color: var(--fill-color);\n",
              "    }\n",
              "    90% {\n",
              "      border-color: transparent;\n",
              "      border-bottom-color: var(--fill-color);\n",
              "    }\n",
              "  }\n",
              "</style>\n",
              "\n",
              "  <script>\n",
              "    async function quickchart(key) {\n",
              "      const quickchartButtonEl =\n",
              "        document.querySelector('#' + key + ' button');\n",
              "      quickchartButtonEl.disabled = true;  // To prevent multiple clicks.\n",
              "      quickchartButtonEl.classList.add('colab-df-spinner');\n",
              "      try {\n",
              "        const charts = await google.colab.kernel.invokeFunction(\n",
              "            'suggestCharts', [key], {});\n",
              "      } catch (error) {\n",
              "        console.error('Error during call to suggestCharts:', error);\n",
              "      }\n",
              "      quickchartButtonEl.classList.remove('colab-df-spinner');\n",
              "      quickchartButtonEl.classList.add('colab-df-quickchart-complete');\n",
              "    }\n",
              "    (() => {\n",
              "      let quickchartButtonEl =\n",
              "        document.querySelector('#df-849e5e8d-adcf-4879-84f5-8d0f40a3d7d4 button');\n",
              "      quickchartButtonEl.style.display =\n",
              "        google.colab.kernel.accessAllowed ? 'block' : 'none';\n",
              "    })();\n",
              "  </script>\n",
              "</div>\n",
              "\n",
              "    </div>\n",
              "  </div>\n"
            ]
          },
          "metadata": {},
          "execution_count": 4
        }
      ]
    },
    {
      "cell_type": "code",
      "source": [
        "df['targets'] = df['labels'].astype(\"category\").cat.codes"
      ],
      "metadata": {
        "id": "CZplcKrhfzEF"
      },
      "execution_count": 5,
      "outputs": []
    },
    {
      "cell_type": "code",
      "source": [
        "# number of classes\n",
        "K = df['targets'].max() + 1\n",
        "K"
      ],
      "metadata": {
        "colab": {
          "base_uri": "https://localhost:8080/"
        },
        "id": "Bb7SnAK_fzGs",
        "outputId": "ff6a5aaa-ec00-4600-c820-92171752bf01"
      },
      "execution_count": 6,
      "outputs": [
        {
          "output_type": "execute_result",
          "data": {
            "text/plain": [
              "5"
            ]
          },
          "metadata": {},
          "execution_count": 6
        }
      ]
    },
    {
      "cell_type": "code",
      "source": [
        "df_train, df_test = train_test_split(df, test_size=0.3)"
      ],
      "metadata": {
        "id": "U_zzBGRhfzKV"
      },
      "execution_count": 7,
      "outputs": []
    },
    {
      "cell_type": "code",
      "source": [
        "# Convert sentences to sequences\n",
        "MAX_VOCAB_SIZE = 2000\n",
        "tokenizer = Tokenizer(num_words=MAX_VOCAB_SIZE)\n",
        "tokenizer.fit_on_texts(df_train['text'])\n",
        "sequences_train = tokenizer.texts_to_sequences(df_train['text'])\n",
        "sequences_test = tokenizer.texts_to_sequences(df_test['text'])"
      ],
      "metadata": {
        "id": "rMjfH6GxfzMr"
      },
      "execution_count": 8,
      "outputs": []
    },
    {
      "cell_type": "code",
      "source": [
        "# get word -> integer mapping\n",
        "word2idx = tokenizer.word_index\n",
        "V = len(word2idx)\n",
        "print('Found %s unique tokens.' % V)"
      ],
      "metadata": {
        "colab": {
          "base_uri": "https://localhost:8080/"
        },
        "id": "4ipwyb6tfzQE",
        "outputId": "c267021c-a916-4d29-ed74-63f8b4808f10"
      },
      "execution_count": 9,
      "outputs": [
        {
          "output_type": "stream",
          "name": "stdout",
          "text": [
            "Found 27758 unique tokens.\n"
          ]
        }
      ]
    },
    {
      "cell_type": "code",
      "source": [
        "# pad sequences so that we get a N x T matrix\n",
        "data_train = pad_sequences(sequences_train)\n",
        "print('Shape of data train tensor:', data_train.shape)\n",
        "\n",
        "# get sequence length\n",
        "T = data_train.shape[1]"
      ],
      "metadata": {
        "colab": {
          "base_uri": "https://localhost:8080/"
        },
        "id": "0v6eRDVDfzS7",
        "outputId": "098dd0f3-40a6-4dd5-a2a2-0b4707220258"
      },
      "execution_count": 10,
      "outputs": [
        {
          "output_type": "stream",
          "name": "stdout",
          "text": [
            "Shape of data train tensor: (1557, 2833)\n"
          ]
        }
      ]
    },
    {
      "cell_type": "code",
      "source": [
        "data_test = pad_sequences(sequences_test, maxlen=T)\n",
        "print('Shape of data test tensor:', data_test.shape)"
      ],
      "metadata": {
        "colab": {
          "base_uri": "https://localhost:8080/"
        },
        "id": "16g8FYTMfzWU",
        "outputId": "61a3a866-9a47-43d5-950a-79abf2ed1a4d"
      },
      "execution_count": 11,
      "outputs": [
        {
          "output_type": "stream",
          "name": "stdout",
          "text": [
            "Shape of data test tensor: (668, 2833)\n"
          ]
        }
      ]
    },
    {
      "cell_type": "code",
      "source": [
        "# Create the model\n",
        "\n",
        "# We get to choose embedding dimensionality\n",
        "D = 50\n",
        "\n",
        "# Note: we actually want to the size of the embedding to (V + 1) x D,\n",
        "# because the first index starts from 1 and not 0.\n",
        "# Thus, if the final index of the embedding matrix is V,\n",
        "# then it actually must have size V + 1.\n",
        "\n",
        "i = Input(shape=(T,))\n",
        "x = Embedding(V + 1, D)(i)\n",
        "x = Conv1D(32, 3, activation='relu')(x)\n",
        "# x = MaxPooling1D(3)(x)\n",
        "# x = Conv1D(64, 3, activation='relu')(x)\n",
        "# x = MaxPooling1D(3)(x)\n",
        "# x = Conv1D(128, 3, activation='relu')(x)\n",
        "x = GlobalMaxPooling1D()(x)\n",
        "x = Dense(K)(x)\n",
        "\n",
        "model = Model(i, x)"
      ],
      "metadata": {
        "id": "vGkoRv1QfzZc"
      },
      "execution_count": 14,
      "outputs": []
    },
    {
      "cell_type": "code",
      "source": [
        "model.summary()"
      ],
      "metadata": {
        "colab": {
          "base_uri": "https://localhost:8080/"
        },
        "id": "SsXAxabuwUce",
        "outputId": "d2a22a28-5050-4e6f-eb10-34f1743bcaae"
      },
      "execution_count": 18,
      "outputs": [
        {
          "output_type": "stream",
          "name": "stdout",
          "text": [
            "Model: \"model\"\n",
            "_________________________________________________________________\n",
            " Layer (type)                Output Shape              Param #   \n",
            "=================================================================\n",
            " input_1 (InputLayer)        [(None, 2833)]            0         \n",
            "                                                                 \n",
            " embedding (Embedding)       (None, 2833, 50)          1387950   \n",
            "                                                                 \n",
            " conv1d (Conv1D)             (None, 2831, 32)          4832      \n",
            "                                                                 \n",
            " global_max_pooling1d (Glob  (None, 32)                0         \n",
            " alMaxPooling1D)                                                 \n",
            "                                                                 \n",
            " dense (Dense)               (None, 5)                 165       \n",
            "                                                                 \n",
            "=================================================================\n",
            "Total params: 1392947 (5.31 MB)\n",
            "Trainable params: 1392947 (5.31 MB)\n",
            "Non-trainable params: 0 (0.00 Byte)\n",
            "_________________________________________________________________\n"
          ]
        }
      ]
    },
    {
      "cell_type": "code",
      "source": [
        "# Compile and fit\n",
        "model.compile(\n",
        "  loss=SparseCategoricalCrossentropy(from_logits=True),\n",
        "  optimizer='adam',\n",
        "  metrics=['accuracy']\n",
        ")\n",
        "\n",
        "\n",
        "print('Training model...')\n",
        "r = model.fit(\n",
        "  data_train,\n",
        "  df_train['targets'],\n",
        "  epochs=50,\n",
        "  validation_data=(data_test, df_test['targets'])\n",
        ")"
      ],
      "metadata": {
        "colab": {
          "base_uri": "https://localhost:8080/"
        },
        "id": "Qq9U6MDngWur",
        "outputId": "26e00b8d-118b-4b5d-b6f0-6203c43fabb1"
      },
      "execution_count": 15,
      "outputs": [
        {
          "output_type": "stream",
          "name": "stdout",
          "text": [
            "Training model...\n",
            "Epoch 1/50\n",
            "49/49 [==============================] - 9s 159ms/step - loss: 1.5742 - accuracy: 0.3680 - val_loss: 1.5095 - val_accuracy: 0.5314\n",
            "Epoch 2/50\n",
            "49/49 [==============================] - 8s 166ms/step - loss: 1.3775 - accuracy: 0.6853 - val_loss: 1.2193 - val_accuracy: 0.7994\n",
            "Epoch 3/50\n",
            "49/49 [==============================] - 8s 158ms/step - loss: 0.9571 - accuracy: 0.8658 - val_loss: 0.7114 - val_accuracy: 0.9132\n",
            "Epoch 4/50\n",
            "49/49 [==============================] - 6s 131ms/step - loss: 0.5023 - accuracy: 0.9242 - val_loss: 0.3832 - val_accuracy: 0.9237\n",
            "Epoch 5/50\n",
            "49/49 [==============================] - 8s 167ms/step - loss: 0.2768 - accuracy: 0.9505 - val_loss: 0.2583 - val_accuracy: 0.9371\n",
            "Epoch 6/50\n",
            "49/49 [==============================] - 6s 130ms/step - loss: 0.1785 - accuracy: 0.9660 - val_loss: 0.2064 - val_accuracy: 0.9431\n",
            "Epoch 7/50\n",
            "49/49 [==============================] - 8s 163ms/step - loss: 0.1237 - accuracy: 0.9794 - val_loss: 0.1750 - val_accuracy: 0.9461\n",
            "Epoch 8/50\n",
            "49/49 [==============================] - 6s 129ms/step - loss: 0.0895 - accuracy: 0.9884 - val_loss: 0.1576 - val_accuracy: 0.9461\n",
            "Epoch 9/50\n",
            "49/49 [==============================] - 8s 164ms/step - loss: 0.0660 - accuracy: 0.9929 - val_loss: 0.1464 - val_accuracy: 0.9476\n",
            "Epoch 10/50\n",
            "49/49 [==============================] - 6s 129ms/step - loss: 0.0492 - accuracy: 0.9955 - val_loss: 0.1389 - val_accuracy: 0.9491\n",
            "Epoch 11/50\n",
            "49/49 [==============================] - 8s 163ms/step - loss: 0.0376 - accuracy: 0.9974 - val_loss: 0.1344 - val_accuracy: 0.9506\n",
            "Epoch 12/50\n",
            "49/49 [==============================] - 6s 130ms/step - loss: 0.0293 - accuracy: 0.9981 - val_loss: 0.1304 - val_accuracy: 0.9521\n",
            "Epoch 13/50\n",
            "49/49 [==============================] - 8s 163ms/step - loss: 0.0232 - accuracy: 0.9994 - val_loss: 0.1282 - val_accuracy: 0.9521\n",
            "Epoch 14/50\n",
            "49/49 [==============================] - 6s 129ms/step - loss: 0.0186 - accuracy: 1.0000 - val_loss: 0.1267 - val_accuracy: 0.9551\n",
            "Epoch 15/50\n",
            "49/49 [==============================] - 8s 164ms/step - loss: 0.0151 - accuracy: 1.0000 - val_loss: 0.1253 - val_accuracy: 0.9536\n",
            "Epoch 16/50\n",
            "49/49 [==============================] - 6s 130ms/step - loss: 0.0125 - accuracy: 1.0000 - val_loss: 0.1245 - val_accuracy: 0.9551\n",
            "Epoch 17/50\n",
            "49/49 [==============================] - 8s 165ms/step - loss: 0.0105 - accuracy: 1.0000 - val_loss: 0.1242 - val_accuracy: 0.9551\n",
            "Epoch 18/50\n",
            "49/49 [==============================] - 6s 131ms/step - loss: 0.0090 - accuracy: 1.0000 - val_loss: 0.1237 - val_accuracy: 0.9551\n",
            "Epoch 19/50\n",
            "49/49 [==============================] - 8s 164ms/step - loss: 0.0078 - accuracy: 1.0000 - val_loss: 0.1232 - val_accuracy: 0.9551\n",
            "Epoch 20/50\n",
            "49/49 [==============================] - 6s 131ms/step - loss: 0.0067 - accuracy: 1.0000 - val_loss: 0.1234 - val_accuracy: 0.9566\n",
            "Epoch 21/50\n",
            "49/49 [==============================] - 8s 162ms/step - loss: 0.0059 - accuracy: 1.0000 - val_loss: 0.1233 - val_accuracy: 0.9566\n",
            "Epoch 22/50\n",
            "49/49 [==============================] - 6s 131ms/step - loss: 0.0053 - accuracy: 1.0000 - val_loss: 0.1233 - val_accuracy: 0.9566\n",
            "Epoch 23/50\n",
            "49/49 [==============================] - 8s 163ms/step - loss: 0.0047 - accuracy: 1.0000 - val_loss: 0.1235 - val_accuracy: 0.9566\n",
            "Epoch 24/50\n",
            "49/49 [==============================] - 6s 130ms/step - loss: 0.0042 - accuracy: 1.0000 - val_loss: 0.1235 - val_accuracy: 0.9566\n",
            "Epoch 25/50\n",
            "49/49 [==============================] - 8s 164ms/step - loss: 0.0038 - accuracy: 1.0000 - val_loss: 0.1237 - val_accuracy: 0.9566\n",
            "Epoch 26/50\n",
            "49/49 [==============================] - 6s 130ms/step - loss: 0.0034 - accuracy: 1.0000 - val_loss: 0.1240 - val_accuracy: 0.9566\n",
            "Epoch 27/50\n",
            "49/49 [==============================] - 8s 163ms/step - loss: 0.0031 - accuracy: 1.0000 - val_loss: 0.1242 - val_accuracy: 0.9566\n",
            "Epoch 28/50\n",
            "49/49 [==============================] - 6s 132ms/step - loss: 0.0028 - accuracy: 1.0000 - val_loss: 0.1245 - val_accuracy: 0.9566\n",
            "Epoch 29/50\n",
            "49/49 [==============================] - 8s 164ms/step - loss: 0.0026 - accuracy: 1.0000 - val_loss: 0.1248 - val_accuracy: 0.9566\n",
            "Epoch 30/50\n",
            "49/49 [==============================] - 6s 128ms/step - loss: 0.0024 - accuracy: 1.0000 - val_loss: 0.1249 - val_accuracy: 0.9566\n",
            "Epoch 31/50\n",
            "49/49 [==============================] - 8s 163ms/step - loss: 0.0022 - accuracy: 1.0000 - val_loss: 0.1253 - val_accuracy: 0.9566\n",
            "Epoch 32/50\n",
            "49/49 [==============================] - 6s 128ms/step - loss: 0.0020 - accuracy: 1.0000 - val_loss: 0.1257 - val_accuracy: 0.9566\n",
            "Epoch 33/50\n",
            "49/49 [==============================] - 8s 164ms/step - loss: 0.0019 - accuracy: 1.0000 - val_loss: 0.1258 - val_accuracy: 0.9566\n",
            "Epoch 34/50\n",
            "49/49 [==============================] - 6s 130ms/step - loss: 0.0017 - accuracy: 1.0000 - val_loss: 0.1260 - val_accuracy: 0.9566\n",
            "Epoch 35/50\n",
            "49/49 [==============================] - 8s 160ms/step - loss: 0.0016 - accuracy: 1.0000 - val_loss: 0.1264 - val_accuracy: 0.9566\n",
            "Epoch 36/50\n",
            "49/49 [==============================] - 6s 131ms/step - loss: 0.0015 - accuracy: 1.0000 - val_loss: 0.1266 - val_accuracy: 0.9566\n",
            "Epoch 37/50\n",
            "49/49 [==============================] - 8s 157ms/step - loss: 0.0014 - accuracy: 1.0000 - val_loss: 0.1269 - val_accuracy: 0.9566\n",
            "Epoch 38/50\n",
            "49/49 [==============================] - 7s 133ms/step - loss: 0.0013 - accuracy: 1.0000 - val_loss: 0.1271 - val_accuracy: 0.9566\n",
            "Epoch 39/50\n",
            "49/49 [==============================] - 8s 158ms/step - loss: 0.0012 - accuracy: 1.0000 - val_loss: 0.1274 - val_accuracy: 0.9566\n",
            "Epoch 40/50\n",
            "49/49 [==============================] - 7s 143ms/step - loss: 0.0011 - accuracy: 1.0000 - val_loss: 0.1277 - val_accuracy: 0.9566\n",
            "Epoch 41/50\n",
            "49/49 [==============================] - 7s 148ms/step - loss: 0.0011 - accuracy: 1.0000 - val_loss: 0.1279 - val_accuracy: 0.9581\n",
            "Epoch 42/50\n",
            "49/49 [==============================] - 7s 151ms/step - loss: 0.0010 - accuracy: 1.0000 - val_loss: 0.1283 - val_accuracy: 0.9581\n",
            "Epoch 43/50\n",
            "49/49 [==============================] - 7s 141ms/step - loss: 9.5414e-04 - accuracy: 1.0000 - val_loss: 0.1285 - val_accuracy: 0.9581\n",
            "Epoch 44/50\n",
            "49/49 [==============================] - 8s 161ms/step - loss: 8.9935e-04 - accuracy: 1.0000 - val_loss: 0.1288 - val_accuracy: 0.9581\n",
            "Epoch 45/50\n",
            "49/49 [==============================] - 7s 132ms/step - loss: 8.4984e-04 - accuracy: 1.0000 - val_loss: 0.1290 - val_accuracy: 0.9581\n",
            "Epoch 46/50\n",
            "49/49 [==============================] - 8s 171ms/step - loss: 8.0305e-04 - accuracy: 1.0000 - val_loss: 0.1293 - val_accuracy: 0.9581\n",
            "Epoch 47/50\n",
            "49/49 [==============================] - 6s 131ms/step - loss: 7.6039e-04 - accuracy: 1.0000 - val_loss: 0.1294 - val_accuracy: 0.9581\n",
            "Epoch 48/50\n",
            "49/49 [==============================] - 8s 164ms/step - loss: 7.1907e-04 - accuracy: 1.0000 - val_loss: 0.1297 - val_accuracy: 0.9581\n",
            "Epoch 49/50\n",
            "49/49 [==============================] - 6s 129ms/step - loss: 6.8254e-04 - accuracy: 1.0000 - val_loss: 0.1300 - val_accuracy: 0.9581\n",
            "Epoch 50/50\n",
            "49/49 [==============================] - 8s 163ms/step - loss: 6.4782e-04 - accuracy: 1.0000 - val_loss: 0.1302 - val_accuracy: 0.9581\n"
          ]
        }
      ]
    },
    {
      "cell_type": "code",
      "source": [
        "# Plot loss per iteration\n",
        "plt.plot(r.history['loss'], label='train loss')\n",
        "plt.plot(r.history['val_loss'], label='val loss')\n",
        "plt.legend();"
      ],
      "metadata": {
        "colab": {
          "base_uri": "https://localhost:8080/",
          "height": 430
        },
        "id": "dex5bQi4gWx2",
        "outputId": "6a99ee68-514c-4c7f-ef2e-58597eec42bf"
      },
      "execution_count": 19,
      "outputs": [
        {
          "output_type": "display_data",
          "data": {
            "text/plain": [
              "<Figure size 640x480 with 1 Axes>"
            ],
            "image/png": "[encoded data removed]"
          },
          "metadata": {}
        }
      ]
    },
    {
      "cell_type": "code",
      "source": [
        "# Plot accuracy per iteration\n",
        "plt.plot(r.history['accuracy'], label='train acc')\n",
        "plt.plot(r.history['val_accuracy'], label='val acc')\n",
        "plt.legend();"
      ],
      "metadata": {
        "colab": {
          "base_uri": "https://localhost:8080/",
          "height": 430
        },
        "id": "s1adM-sTgW08",
        "outputId": "95deecd0-b9c9-4373-f747-9a30d6afe363"
      },
      "execution_count": 20,
      "outputs": [
        {
          "output_type": "display_data",
          "data": {
            "text/plain": [
              "<Figure size 640x480 with 1 Axes>"
            ],
            "image/png": "[encoded data removed]"
          },
          "metadata": {}
        }
      ]
    },
    {
      "cell_type": "code",
      "source": [],
      "metadata": {
        "id": "tEQ4Zb4NgW9k"
      },
      "execution_count": null,
      "outputs": []
    }
  ]
}