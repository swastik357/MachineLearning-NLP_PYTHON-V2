{
  "nbformat": 4,
  "nbformat_minor": 0,
  "metadata": {
    "colab": {
      "provenance": []
    },
    "kernelspec": {
      "name": "python3",
      "display_name": "Python 3"
    }
  },
  "cells": [
    {
      "cell_type": "markdown",
      "metadata": {
        "id": "view-in-github"
      },
      "source": [
        "<a href=\"https://colab.research.google.com/github/bartoszgajda55/Tensorflow2DeepLearning/blob/master/TF2.0%20Text%20Preprocessing.ipynb\" target=\"_parent\"><img src=\"https://colab.research.google.com/assets/colab-badge.svg\" alt=\"Open In Colab\"/></a>"
      ]
    },
    {
      "cell_type": "code",
      "metadata": {
        "id": "06brmWnAXRmn"
      },
      "source": [
        "import tensorflow as tf\n",
        "from tensorflow.keras.preprocessing.text import Tokenizer\n",
        "from tensorflow.keras.preprocessing.sequence import pad_sequences"
      ],
      "execution_count": 1,
      "outputs": []
    },
    {
      "cell_type": "code",
      "source": [
        "try:\n",
        "  %tensorflow_version 2.x #Colab only.\n",
        "except Exception:\n",
        "  pass\n",
        "\n",
        "print(tf.__version__)"
      ],
      "metadata": {
        "colab": {
          "base_uri": "https://localhost:8080/"
        },
        "id": "sNacErYpzf16",
        "outputId": "a2e3d68c-cecc-4776-e1d2-d724ca0802f4"
      },
      "execution_count": 2,
      "outputs": [
        {
          "output_type": "stream",
          "name": "stdout",
          "text": [
            "Colab only includes TensorFlow 2.x; %tensorflow_version has no effect.\n",
            "2.15.0\n"
          ]
        }
      ]
    },
    {
      "cell_type": "code",
      "metadata": {
        "id": "sMIWfTiqXmJJ"
      },
      "source": [
        "sentences = [\n",
        "             \"I like eggs and ham.\",\n",
        "             \"I love chocolate and bunnies.\",\n",
        "             \"I hate onions.\"\n",
        "]"
      ],
      "execution_count": 3,
      "outputs": []
    },
    {
      "cell_type": "code",
      "metadata": {
        "id": "Rcr1fsZKX1HS"
      },
      "source": [
        "MAX_VOCAB_SIZE = 20000\n",
        "tokenizer = Tokenizer(num_words=MAX_VOCAB_SIZE)\n",
        "tokenizer.fit_on_texts(sentences)\n",
        "sequences = tokenizer.texts_to_sequences(sentences)"
      ],
      "execution_count": 4,
      "outputs": []
    },
    {
      "cell_type": "code",
      "metadata": {
        "id": "zObgVb5gYESU",
        "colab": {
          "base_uri": "https://localhost:8080/"
        },
        "outputId": "0f33b137-6025-4de8-c129-0561a9cff7ea"
      },
      "source": [
        "sequences"
      ],
      "execution_count": 5,
      "outputs": [
        {
          "output_type": "execute_result",
          "data": {
            "text/plain": [
              "[[1, 3, 4, 2, 5], [1, 6, 7, 2, 8], [1, 9, 10]]"
            ]
          },
          "metadata": {},
          "execution_count": 5
        }
      ]
    },
    {
      "cell_type": "code",
      "metadata": {
        "id": "ZY8MDyeaYKBH",
        "colab": {
          "base_uri": "https://localhost:8080/"
        },
        "outputId": "92040458-4b81-4880-e16f-820b5cd4c42d"
      },
      "source": [
        "# Getting the word to index mapping\n",
        "tokenizer.word_index"
      ],
      "execution_count": 6,
      "outputs": [
        {
          "output_type": "execute_result",
          "data": {
            "text/plain": [
              "{'i': 1,\n",
              " 'and': 2,\n",
              " 'like': 3,\n",
              " 'eggs': 4,\n",
              " 'ham': 5,\n",
              " 'love': 6,\n",
              " 'chocolate': 7,\n",
              " 'bunnies': 8,\n",
              " 'hate': 9,\n",
              " 'onions': 10}"
            ]
          },
          "metadata": {},
          "execution_count": 6
        }
      ]
    },
    {
      "cell_type": "code",
      "source": [
        "sequences"
      ],
      "metadata": {
        "colab": {
          "base_uri": "https://localhost:8080/"
        },
        "id": "xqLJvSa0oNnB",
        "outputId": "eeddb1c8-08bf-4fe8-a1b4-19e10d5cdf15"
      },
      "execution_count": 8,
      "outputs": [
        {
          "output_type": "execute_result",
          "data": {
            "text/plain": [
              "[[1, 3, 4, 2, 5], [1, 6, 7, 2, 8], [1, 9, 10]]"
            ]
          },
          "metadata": {},
          "execution_count": 8
        }
      ]
    },
    {
      "cell_type": "code",
      "metadata": {
        "id": "KacGb0e5YPXn",
        "colab": {
          "base_uri": "https://localhost:8080/"
        },
        "outputId": "dddf1799-8d3b-4c97-bf10-1405faaeb037"
      },
      "source": [
        "# Use defaults\n",
        "data = pad_sequences(sequences)\n",
        "data"
      ],
      "execution_count": 9,
      "outputs": [
        {
          "output_type": "execute_result",
          "data": {
            "text/plain": [
              "array([[ 1,  3,  4,  2,  5],\n",
              "       [ 1,  6,  7,  2,  8],\n",
              "       [ 0,  0,  1,  9, 10]], dtype=int32)"
            ]
          },
          "metadata": {},
          "execution_count": 9
        }
      ]
    },
    {
      "cell_type": "code",
      "metadata": {
        "id": "M0REUiyWYgs-",
        "colab": {
          "base_uri": "https://localhost:8080/"
        },
        "outputId": "9650ddea-dbcc-45b3-cff1-0f6a40dad2da"
      },
      "source": [
        "MAX_SEQUENCE_LENGTH = 5\n",
        "data = pad_sequences(sequences, maxlen=MAX_SEQUENCE_LENGTH)\n",
        "data"
      ],
      "execution_count": 15,
      "outputs": [
        {
          "output_type": "execute_result",
          "data": {
            "text/plain": [
              "array([[ 1,  3,  4,  2,  5],\n",
              "       [ 1,  6,  7,  2,  8],\n",
              "       [ 0,  0,  1,  9, 10]], dtype=int32)"
            ]
          },
          "metadata": {},
          "execution_count": 15
        }
      ]
    },
    {
      "cell_type": "code",
      "metadata": {
        "id": "EaRUfKGWY7LC",
        "colab": {
          "base_uri": "https://localhost:8080/"
        },
        "outputId": "15eb9c33-55aa-4316-ec4f-d8871f34cd29"
      },
      "source": [
        "data = pad_sequences(sequences, maxlen=MAX_SEQUENCE_LENGTH, padding=\"post\")\n",
        "data"
      ],
      "execution_count": 16,
      "outputs": [
        {
          "output_type": "execute_result",
          "data": {
            "text/plain": [
              "array([[ 1,  3,  4,  2,  5],\n",
              "       [ 1,  6,  7,  2,  8],\n",
              "       [ 1,  9, 10,  0,  0]], dtype=int32)"
            ]
          },
          "metadata": {},
          "execution_count": 16
        }
      ]
    },
    {
      "cell_type": "code",
      "metadata": {
        "id": "iosJ3eTcZAod",
        "colab": {
          "base_uri": "https://localhost:8080/"
        },
        "outputId": "d88a9f56-7970-442f-81b3-73370e859158"
      },
      "source": [
        "# Truncation\n",
        "data = pad_sequences(sequences, maxlen=4)\n",
        "data"
      ],
      "execution_count": 17,
      "outputs": [
        {
          "output_type": "execute_result",
          "data": {
            "text/plain": [
              "array([[ 3,  4,  2,  5],\n",
              "       [ 6,  7,  2,  8],\n",
              "       [ 0,  1,  9, 10]], dtype=int32)"
            ]
          },
          "metadata": {},
          "execution_count": 17
        }
      ]
    },
    {
      "cell_type": "code",
      "metadata": {
        "id": "bYuQvv-tZKvB"
      },
      "source": [],
      "execution_count": null,
      "outputs": []
    }
  ]
}