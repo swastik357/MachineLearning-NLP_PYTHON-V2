{
  "nbformat": 4,
  "nbformat_minor": 0,
  "metadata": {
    "colab": {
      "provenance": []
    },
    "kernelspec": {
      "name": "python3",
      "display_name": "Python 3"
    },
    "language_info": {
      "name": "python"
    }
  },
  "cells": [
    {
      "cell_type": "code",
      "execution_count": 9,
      "metadata": {
        "colab": {
          "base_uri": "https://localhost:8080/"
        },
        "id": "BfdqDmrCM3La",
        "outputId": "47fd5038-c1bf-4bd8-ec6d-d7e51de31edb"
      },
      "outputs": [
        {
          "output_type": "stream",
          "name": "stdout",
          "text": [
            "The word THE is a StoP WORD\n",
            "[['word' 'the' 'is' 'stop' 'a']\n",
            " ['2.0' '2.0' '1.0' '1.0' '1.0']]\n"
          ]
        }
      ],
      "source": [
        "'Single sentence converted into vector using numpy'\n",
        "\n",
        "from collections import *\n",
        "import numpy as np\n",
        "\n",
        "inputSentenceCounter = Counter(input().split())\n",
        "\n",
        "words = set()\n",
        "for word in inputSentenceCounter:\n",
        "  words.add(word.lower())\n",
        "words = list(words)\n",
        "\n",
        "n = len(words)\n",
        "countMatrix = np.zeros(n)\n",
        "\n",
        "for key,val in inputSentenceCounter.items():\n",
        "  idx = words.index(key.lower())\n",
        "  countMatrix[idx]+=val\n",
        "\n",
        "countMatrix = np.vstack((words,countMatrix))\n",
        "print(countMatrix)"
      ]
    },
    {
      "cell_type": "code",
      "source": [
        "'Single sentence converted into vector using scipy'\n",
        "\n",
        "from collections import *\n",
        "import scipy as sp\n",
        "\n",
        "inputSentenceCounter = Counter(input().split())\n",
        "\n",
        "words = set()\n",
        "for word in inputSentenceCounter:\n",
        "  words.add(word.lower())\n",
        "words = list(words)\n",
        "\n",
        "n = len(words)\n",
        "countMatrix = sp.zeros(n)\n",
        "\n",
        "for key,val in inputSentenceCounter.items():\n",
        "  idx = words.index(key.lower())\n",
        "  countMatrix[idx]+=val\n",
        "\n",
        "countMatrix = sp.vstack((words,countMatrix))\n",
        "print(countMatrix)"
      ],
      "metadata": {
        "colab": {
          "base_uri": "https://localhost:8080/"
        },
        "id": "bhWbGCV_Xt0N",
        "outputId": "6595edb6-c564-4d77-8b24-c1816f4698a7"
      },
      "execution_count": 10,
      "outputs": [
        {
          "output_type": "stream",
          "name": "stdout",
          "text": [
            "The word THE is a StoP WORD\n",
            "[['word' 'the' 'is' 'stop' 'a']\n",
            " ['2.0' '2.0' '1.0' '1.0' '1.0']]\n"
          ]
        },
        {
          "output_type": "stream",
          "name": "stderr",
          "text": [
            "<ipython-input-10-d92ef72c3c7c>:14: DeprecationWarning: scipy.zeros is deprecated and will be removed in SciPy 2.0.0, use numpy.zeros instead\n",
            "  countMatrix = sp.zeros(n)\n",
            "<ipython-input-10-d92ef72c3c7c>:20: DeprecationWarning: scipy.vstack is deprecated and will be removed in SciPy 2.0.0, use numpy.vstack instead\n",
            "  countMatrix = sp.vstack((words,countMatrix))\n"
          ]
        }
      ]
    },
    {
      "cell_type": "code",
      "source": [
        "'Program to convert a list of sentences into a matrix of tokenized vectors'\n",
        "\n",
        "import scipy as sp\n",
        "\n",
        "numDocs = int(input('Enter number of documents: '))\n",
        "docs = []\n",
        "uniqueWords = set()\n",
        "\n",
        "for _ in range(numDocs):\n",
        "  inputSentence = input('Enter sentence: ')\n",
        "  docs.append(inputSentence)\n",
        "  for word in set(inputSentence.split(' ')):\n",
        "    uniqueWords.add(word.lower())\n",
        "\n",
        "n = len(uniqueWords)\n",
        "\n",
        "wordToIndex = {}\n",
        "words = []\n",
        "i = 0\n",
        "\n",
        "for word in uniqueWords:\n",
        "  words.append(word)\n",
        "  wordToIndex[word] = i\n",
        "  i+=1\n",
        "\n",
        "countMatrix = sp.zeros((numDocs,n))\n",
        "\n",
        "for i,inputSentence in enumerate(docs):\n",
        "  inputSentence = inputSentence.split(' ')\n",
        "  for word in inputSentence:\n",
        "    word = word.lower()\n",
        "    countMatrix[i][wordToIndex[word]]+=val\n",
        "\n",
        "countMatrix = sp.vstack((words,countMatrix))\n",
        "print(countMatrix)"
      ],
      "metadata": {
        "colab": {
          "base_uri": "https://localhost:8080/"
        },
        "id": "gVc4bblrYBjy",
        "outputId": "849ebd44-3c81-4716-8416-5e4437051f34"
      },
      "execution_count": 12,
      "outputs": [
        {
          "output_type": "stream",
          "name": "stdout",
          "text": [
            "Enter number of documents: 5\n",
            "Enter sentence: I am a cat\n",
            "Enter sentence: I AM A DOG\n",
            "Enter sentence: A caT and A Dog\n",
            "Enter sentence: I AM A CAT\n",
            "Enter sentence: i am a dog\n",
            "[['i' 'and' 'cat' 'am' 'dog' 'a']\n",
            " ['1.0' '0.0' '1.0' '1.0' '0.0' '1.0']\n",
            " ['1.0' '0.0' '0.0' '1.0' '1.0' '1.0']\n",
            " ['0.0' '1.0' '1.0' '0.0' '1.0' '2.0']\n",
            " ['1.0' '0.0' '1.0' '1.0' '0.0' '1.0']\n",
            " ['1.0' '0.0' '0.0' '1.0' '1.0' '1.0']]\n"
          ]
        },
        {
          "output_type": "stream",
          "name": "stderr",
          "text": [
            "<ipython-input-12-56d1061492e6>:26: DeprecationWarning: scipy.zeros is deprecated and will be removed in SciPy 2.0.0, use numpy.zeros instead\n",
            "  countMatrix = sp.zeros((numDocs,n))\n",
            "<ipython-input-12-56d1061492e6>:34: DeprecationWarning: scipy.vstack is deprecated and will be removed in SciPy 2.0.0, use numpy.vstack instead\n",
            "  countMatrix = sp.vstack((words,countMatrix))\n"
          ]
        }
      ]
    }
  ]
}