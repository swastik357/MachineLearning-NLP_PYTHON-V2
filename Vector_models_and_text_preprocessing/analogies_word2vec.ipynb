{
  "nbformat": 4,
  "nbformat_minor": 0,
  "metadata": {
    "colab": {
      "provenance": []
    },
    "kernelspec": {
      "name": "python3",
      "display_name": "Python 3"
    },
    "language_info": {
      "name": "python"
    }
  },
  "cells": [
    {
      "cell_type": "code",
      "execution_count": 3,
      "metadata": {
        "colab": {
          "base_uri": "https://localhost:8080/"
        },
        "id": "zIRHfSGzB8eB",
        "outputId": "b81f03a2-dc85-40ec-d9f1-58e3b8e3a70e"
      },
      "outputs": [
        {
          "output_type": "stream",
          "name": "stdout",
          "text": [
            "--2023-12-19 23:06:15--  https://archive.org/download/google-news-vectors-negative-300.bin_202311/GoogleNews-vectors-negative300.bin.gz\n",
            "Resolving archive.org (archive.org)... 207.241.224.2\n",
            "Connecting to archive.org (archive.org)|207.241.224.2|:443... connected.\n",
            "HTTP request sent, awaiting response... 302 Found\n",
            "Location: https://ia601203.us.archive.org/18/items/google-news-vectors-negative-300.bin_202311/GoogleNews-vectors-negative300.bin.gz [following]\n",
            "--2023-12-19 23:06:15--  https://ia601203.us.archive.org/18/items/google-news-vectors-negative-300.bin_202311/GoogleNews-vectors-negative300.bin.gz\n",
            "Resolving ia601203.us.archive.org (ia601203.us.archive.org)... 207.241.227.133\n",
            "Connecting to ia601203.us.archive.org (ia601203.us.archive.org)|207.241.227.133|:443... connected.\n",
            "HTTP request sent, awaiting response... 200 OK\n",
            "Length: 1647046227 (1.5G) [application/octet-stream]\n",
            "Saving to: ‘GoogleNews-vectors-negative300.bin.gz’\n",
            "\n",
            "GoogleNews-vectors- 100%[===================>]   1.53G   756KB/s    in 22m 3s  \n",
            "\n",
            "2023-12-19 23:28:19 (1.19 MB/s) - ‘GoogleNews-vectors-negative300.bin.gz’ saved [1647046227/1647046227]\n",
            "\n"
          ]
        }
      ],
      "source": [
        "# Slower but always guaranteed to work\n",
        "!wget -nc https://archive.org/download/google-news-vectors-negative-300.bin_202311/GoogleNews-vectors-negative300.bin.gz\n",
        "\n",
        "# You are better off just downloading this from the source\n",
        "# https://drive.google.com/file/d/0B7XkCwpI5KDYNlNUTTlSS21pQmM/edit?usp=sharing\n",
        "# https://code.google.com/archive/p/word2vec/"
      ]
    },
    {
      "cell_type": "code",
      "source": [
        "# import gdown"
      ],
      "metadata": {
        "id": "7EPjXSe-C7p8"
      },
      "execution_count": null,
      "outputs": []
    },
    {
      "cell_type": "code",
      "source": [
        "# !gdown https://drive.google.com/uc?id=0B7XkCwpI5KDYNlNUTTlSS21pQmM"
      ],
      "metadata": {
        "id": "Ly3pbFBFC_l_"
      },
      "execution_count": null,
      "outputs": []
    },
    {
      "cell_type": "code",
      "source": [
        "!gunzip GoogleNews-vectors-negative300.bin.gz"
      ],
      "metadata": {
        "id": "pXQSMPMuDENB"
      },
      "execution_count": 4,
      "outputs": []
    },
    {
      "cell_type": "code",
      "source": [
        "from gensim.models import KeyedVectors"
      ],
      "metadata": {
        "id": "MFXym9vxDHL9"
      },
      "execution_count": 5,
      "outputs": []
    },
    {
      "cell_type": "code",
      "source": [
        "word_vectors = KeyedVectors.load_word2vec_format(\n",
        "  'GoogleNews-vectors-negative300.bin',\n",
        "  binary=True\n",
        ")"
      ],
      "metadata": {
        "id": "oe5KnrNyDJwz"
      },
      "execution_count": 6,
      "outputs": []
    },
    {
      "cell_type": "code",
      "source": [
        "def find_analogies(w1, w2, w3):\n",
        "  # w1 - w2 = ? - w3\n",
        "  # e.g. king - man = ? - woman\n",
        "  #      ? = +king +woman -man\n",
        "  r = word_vectors.most_similar(positive=[w1, w3], negative=[w2])\n",
        "  print(\"%s - %s = %s - %s\" % (w1, w2, r[0][0], w3))"
      ],
      "metadata": {
        "id": "8wu1B96pDO1j"
      },
      "execution_count": 7,
      "outputs": []
    },
    {
      "cell_type": "code",
      "source": [
        "find_analogies('king', 'man', 'woman')"
      ],
      "metadata": {
        "colab": {
          "base_uri": "https://localhost:8080/"
        },
        "id": "Hn6qwa8CDWwX",
        "outputId": "f3ccbd60-8e64-43cb-aa50-ffbceead9782"
      },
      "execution_count": 8,
      "outputs": [
        {
          "output_type": "stream",
          "name": "stdout",
          "text": [
            "king - man = queen - woman\n"
          ]
        }
      ]
    },
    {
      "cell_type": "code",
      "source": [
        "find_analogies('france', 'paris', 'london')"
      ],
      "metadata": {
        "colab": {
          "base_uri": "https://localhost:8080/"
        },
        "id": "an2epefZDbOj",
        "outputId": "7ac1f9a3-a803-45a7-ec29-4bc6fa9241cd"
      },
      "execution_count": 9,
      "outputs": [
        {
          "output_type": "stream",
          "name": "stdout",
          "text": [
            "france - paris = england - london\n"
          ]
        }
      ]
    },
    {
      "cell_type": "code",
      "source": [
        "find_analogies('france', 'paris', 'rome')"
      ],
      "metadata": {
        "colab": {
          "base_uri": "https://localhost:8080/"
        },
        "id": "3QnSWaysDfA_",
        "outputId": "e74f107c-d5c4-4c72-f76c-784298b6ccb1"
      },
      "execution_count": 10,
      "outputs": [
        {
          "output_type": "stream",
          "name": "stdout",
          "text": [
            "france - paris = italy - rome\n"
          ]
        }
      ]
    },
    {
      "cell_type": "code",
      "source": [
        "find_analogies('paris', 'france', 'italy')"
      ],
      "metadata": {
        "colab": {
          "base_uri": "https://localhost:8080/"
        },
        "id": "Ecec8zkiDiPy",
        "outputId": "148954e4-aec5-41d2-cb14-8cec4f58fbcc"
      },
      "execution_count": 11,
      "outputs": [
        {
          "output_type": "stream",
          "name": "stdout",
          "text": [
            "paris - france = lohan - italy\n"
          ]
        }
      ]
    },
    {
      "cell_type": "code",
      "source": [
        "find_analogies('france', 'french', 'english')"
      ],
      "metadata": {
        "colab": {
          "base_uri": "https://localhost:8080/"
        },
        "id": "HOiVZMgpDltZ",
        "outputId": "add0a845-7fa3-4bf4-8d18-55ac79ede3f5"
      },
      "execution_count": 12,
      "outputs": [
        {
          "output_type": "stream",
          "name": "stdout",
          "text": [
            "france - french = england - english\n"
          ]
        }
      ]
    },
    {
      "cell_type": "code",
      "source": [
        "find_analogies('japan', 'japanese', 'chinese')"
      ],
      "metadata": {
        "colab": {
          "base_uri": "https://localhost:8080/"
        },
        "id": "9sVtYHNfDpOI",
        "outputId": "d0da8816-c28c-4373-d2a6-3b06a8b8d0b4"
      },
      "execution_count": 13,
      "outputs": [
        {
          "output_type": "stream",
          "name": "stdout",
          "text": [
            "japan - japanese = tibet - chinese\n"
          ]
        }
      ]
    },
    {
      "cell_type": "code",
      "source": [
        "find_analogies('japan', 'japanese', 'italian')"
      ],
      "metadata": {
        "colab": {
          "base_uri": "https://localhost:8080/"
        },
        "id": "_sA0hlotEiTW",
        "outputId": "2d853b72-ebab-43ad-b06e-28f960f7cfe0"
      },
      "execution_count": 14,
      "outputs": [
        {
          "output_type": "stream",
          "name": "stdout",
          "text": [
            "japan - japanese = italy - italian\n"
          ]
        }
      ]
    },
    {
      "cell_type": "code",
      "source": [
        "find_analogies('december', 'november', 'june')"
      ],
      "metadata": {
        "colab": {
          "base_uri": "https://localhost:8080/"
        },
        "id": "d_QONa6-ElY1",
        "outputId": "1803cedc-af2a-4497-cfcb-9ce1cc508914"
      },
      "execution_count": 15,
      "outputs": [
        {
          "output_type": "stream",
          "name": "stdout",
          "text": [
            "december - november = september - june\n"
          ]
        }
      ]
    },
    {
      "cell_type": "code",
      "source": [
        "find_analogies('miami', 'florida', 'texas')"
      ],
      "metadata": {
        "colab": {
          "base_uri": "https://localhost:8080/"
        },
        "id": "wRLi-A3MEnXD",
        "outputId": "4e146cd8-3402-4cb2-b466-683dcc3c1ae3"
      },
      "execution_count": 16,
      "outputs": [
        {
          "output_type": "stream",
          "name": "stdout",
          "text": [
            "miami - florida = dallas - texas\n"
          ]
        }
      ]
    },
    {
      "cell_type": "code",
      "source": [
        "find_analogies('einstein', 'scientist', 'painter')"
      ],
      "metadata": {
        "colab": {
          "base_uri": "https://localhost:8080/"
        },
        "id": "qz_4BgPSEpXM",
        "outputId": "2840e2bd-49ab-475e-d9e7-3a0b3e065d0a"
      },
      "execution_count": 17,
      "outputs": [
        {
          "output_type": "stream",
          "name": "stdout",
          "text": [
            "einstein - scientist = jude - painter\n"
          ]
        }
      ]
    },
    {
      "cell_type": "code",
      "source": [
        "find_analogies('man', 'woman', 'she')"
      ],
      "metadata": {
        "colab": {
          "base_uri": "https://localhost:8080/"
        },
        "id": "2ry4l1_eErDP",
        "outputId": "6b9734ec-cbfb-49b5-d1fe-82269a5245d3"
      },
      "execution_count": 18,
      "outputs": [
        {
          "output_type": "stream",
          "name": "stdout",
          "text": [
            "man - woman = he - she\n"
          ]
        }
      ]
    },
    {
      "cell_type": "code",
      "source": [
        "find_analogies('man', 'woman', 'aunt')"
      ],
      "metadata": {
        "colab": {
          "base_uri": "https://localhost:8080/"
        },
        "id": "Pfl8Uc7ZEs9Y",
        "outputId": "0439af29-f389-4fb2-c3d3-670225e7129d"
      },
      "execution_count": 19,
      "outputs": [
        {
          "output_type": "stream",
          "name": "stdout",
          "text": [
            "man - woman = uncle - aunt\n"
          ]
        }
      ]
    },
    {
      "cell_type": "code",
      "source": [
        "find_analogies('man', 'woman', 'sister')"
      ],
      "metadata": {
        "colab": {
          "base_uri": "https://localhost:8080/"
        },
        "id": "E5cJo_plEus4",
        "outputId": "1b08b9ee-753b-40a8-8980-c125e161a8f8"
      },
      "execution_count": 20,
      "outputs": [
        {
          "output_type": "stream",
          "name": "stdout",
          "text": [
            "man - woman = brother - sister\n"
          ]
        }
      ]
    },
    {
      "cell_type": "code",
      "source": [
        "find_analogies('man', 'woman', 'wife')"
      ],
      "metadata": {
        "colab": {
          "base_uri": "https://localhost:8080/"
        },
        "id": "liS7H-5lEwMd",
        "outputId": "68ce26d6-b324-4dbf-e885-d4df1ab2d993"
      },
      "execution_count": 21,
      "outputs": [
        {
          "output_type": "stream",
          "name": "stdout",
          "text": [
            "man - woman = son - wife\n"
          ]
        }
      ]
    },
    {
      "cell_type": "code",
      "source": [
        "find_analogies('man', 'woman', 'actress')"
      ],
      "metadata": {
        "colab": {
          "base_uri": "https://localhost:8080/"
        },
        "id": "TWjrDMbxEx9w",
        "outputId": "dcd478cb-5743-4eb1-faf2-022299859d41"
      },
      "execution_count": 22,
      "outputs": [
        {
          "output_type": "stream",
          "name": "stdout",
          "text": [
            "man - woman = actor - actress\n"
          ]
        }
      ]
    },
    {
      "cell_type": "code",
      "source": [
        "find_analogies('man', 'woman', 'mother')"
      ],
      "metadata": {
        "colab": {
          "base_uri": "https://localhost:8080/"
        },
        "id": "Bt1xTS_6EzqF",
        "outputId": "e276ee82-7c0c-41b5-8f70-557fadecf212"
      },
      "execution_count": 23,
      "outputs": [
        {
          "output_type": "stream",
          "name": "stdout",
          "text": [
            "man - woman = father - mother\n"
          ]
        }
      ]
    },
    {
      "cell_type": "code",
      "source": [
        "find_analogies('nephew', 'niece', 'aunt')"
      ],
      "metadata": {
        "colab": {
          "base_uri": "https://localhost:8080/"
        },
        "id": "Zc4yCTeDE1I6",
        "outputId": "1dc3f6e1-644e-4e88-92db-4e17045df2e4"
      },
      "execution_count": 24,
      "outputs": [
        {
          "output_type": "stream",
          "name": "stdout",
          "text": [
            "nephew - niece = uncle - aunt\n"
          ]
        }
      ]
    },
    {
      "cell_type": "code",
      "source": [
        "def nearest_neighbors(w):\n",
        "  r = word_vectors.most_similar(positive=[w])\n",
        "  print(\"neighbors of: %s\" % w)\n",
        "  for word, score in r:\n",
        "    print(\"\\t%s\" % word)"
      ],
      "metadata": {
        "id": "DVUoCEMnE10n"
      },
      "execution_count": 25,
      "outputs": []
    },
    {
      "cell_type": "code",
      "source": [
        "nearest_neighbors('king')"
      ],
      "metadata": {
        "colab": {
          "base_uri": "https://localhost:8080/"
        },
        "id": "B2V1iwvDE7YX",
        "outputId": "65ad4608-c282-43c8-bbbe-ce170c50ce9a"
      },
      "execution_count": 26,
      "outputs": [
        {
          "output_type": "stream",
          "name": "stdout",
          "text": [
            "neighbors of: king\n",
            "\tkings\n",
            "\tqueen\n",
            "\tmonarch\n",
            "\tcrown_prince\n",
            "\tprince\n",
            "\tsultan\n",
            "\truler\n",
            "\tprinces\n",
            "\tPrince_Paras\n",
            "\tthrone\n"
          ]
        }
      ]
    },
    {
      "cell_type": "code",
      "source": [
        "nearest_neighbors('france')"
      ],
      "metadata": {
        "colab": {
          "base_uri": "https://localhost:8080/"
        },
        "id": "xVhyA1YoE9gp",
        "outputId": "d7a37f2a-3cd9-43a3-d675-f0a8f40fa879"
      },
      "execution_count": 27,
      "outputs": [
        {
          "output_type": "stream",
          "name": "stdout",
          "text": [
            "neighbors of: france\n",
            "\tspain\n",
            "\tfrench\n",
            "\tgermany\n",
            "\teurope\n",
            "\titaly\n",
            "\tengland\n",
            "\teuropean\n",
            "\tbelgium\n",
            "\tusa\n",
            "\tserbia\n"
          ]
        }
      ]
    },
    {
      "cell_type": "code",
      "source": [
        "nearest_neighbors('japan')"
      ],
      "metadata": {
        "colab": {
          "base_uri": "https://localhost:8080/"
        },
        "id": "1-dcWRl7FAS_",
        "outputId": "54ace37c-5557-4485-9ff7-54ee71c9c35a"
      },
      "execution_count": 28,
      "outputs": [
        {
          "output_type": "stream",
          "name": "stdout",
          "text": [
            "neighbors of: japan\n",
            "\tjapanese\n",
            "\ttokyo\n",
            "\tamerica\n",
            "\teurope\n",
            "\tgermany\n",
            "\tchinese\n",
            "\tindia\n",
            "\thawaii\n",
            "\tusa\n",
            "\tkorea\n"
          ]
        }
      ]
    },
    {
      "cell_type": "code",
      "source": [
        "nearest_neighbors('einstein')"
      ],
      "metadata": {
        "colab": {
          "base_uri": "https://localhost:8080/"
        },
        "id": "Nczsu7B3FCLf",
        "outputId": "38bc8077-a7cf-4617-e38d-91ed9c30ce96"
      },
      "execution_count": 29,
      "outputs": [
        {
          "output_type": "stream",
          "name": "stdout",
          "text": [
            "neighbors of: einstein\n",
            "\tnikki\n",
            "\tlmfao\n",
            "\talbert\n",
            "\tarmstrong\n",
            "\tjoan\n",
            "\tbecky\n",
            "\tmcmahon\n",
            "\tconrad\n",
            "\tlori\n",
            "\thaley\n"
          ]
        }
      ]
    },
    {
      "cell_type": "code",
      "source": [
        "nearest_neighbors('woman')"
      ],
      "metadata": {
        "colab": {
          "base_uri": "https://localhost:8080/"
        },
        "id": "IcfkdaGyFG8e",
        "outputId": "51c87a85-9e75-49be-caa4-2528c5032c88"
      },
      "execution_count": 30,
      "outputs": [
        {
          "output_type": "stream",
          "name": "stdout",
          "text": [
            "neighbors of: woman\n",
            "\tman\n",
            "\tgirl\n",
            "\tteenage_girl\n",
            "\tteenager\n",
            "\tlady\n",
            "\tteenaged_girl\n",
            "\tmother\n",
            "\tpolicewoman\n",
            "\tboy\n",
            "\tWoman\n"
          ]
        }
      ]
    },
    {
      "cell_type": "code",
      "source": [
        "nearest_neighbors('nephew')"
      ],
      "metadata": {
        "colab": {
          "base_uri": "https://localhost:8080/"
        },
        "id": "SNSgV5PyFJaj",
        "outputId": "3a5e68f7-356b-4890-de14-666b2d5c2fd6"
      },
      "execution_count": 31,
      "outputs": [
        {
          "output_type": "stream",
          "name": "stdout",
          "text": [
            "neighbors of: nephew\n",
            "\tson\n",
            "\tuncle\n",
            "\tbrother\n",
            "\tgrandson\n",
            "\tcousin\n",
            "\tfather\n",
            "\tniece\n",
            "\tyounger_brother\n",
            "\tnephews\n",
            "\tstepson\n"
          ]
        }
      ]
    },
    {
      "cell_type": "code",
      "source": [
        "nearest_neighbors('february')"
      ],
      "metadata": {
        "colab": {
          "base_uri": "https://localhost:8080/"
        },
        "id": "YhX1HykSFL44",
        "outputId": "e06cc127-b9a7-40af-fc3e-4719a16d366c"
      },
      "execution_count": 32,
      "outputs": [
        {
          "output_type": "stream",
          "name": "stdout",
          "text": [
            "neighbors of: february\n",
            "\tjanuary\n",
            "\tapril\n",
            "\tseptember\n",
            "\tdecember\n",
            "\tjuly\n",
            "\toctober\n",
            "\tnovember\n",
            "\tjune\n",
            "\tfeb\n",
            "\tnorway\n"
          ]
        }
      ]
    },
    {
      "cell_type": "code",
      "source": [
        "# Exercise: download pretrained GloVe vectors from\n",
        "# https://nlp.stanford.edu/projects/glove/\n",
        "#\n",
        "# Implement your own find_analogies() and nearest_neighbors()\n",
        "#\n",
        "# Hint: you do NOT have to go hunting around on Stackoverflow\n",
        "#       you do NOT have to copy and paste code from anywhere\n",
        "#       look at the file you downloaded"
      ],
      "metadata": {
        "id": "2V6Lj61jFPcv"
      },
      "execution_count": null,
      "outputs": []
    }
  ]
}