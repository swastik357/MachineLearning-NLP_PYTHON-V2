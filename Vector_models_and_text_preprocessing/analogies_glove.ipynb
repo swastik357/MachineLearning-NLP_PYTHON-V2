{
  "nbformat": 4,
  "nbformat_minor": 0,
  "metadata": {
    "colab": {
      "provenance": []
    },
    "kernelspec": {
      "name": "python3",
      "display_name": "Python 3"
    },
    "language_info": {
      "name": "python"
    }
  },
  "cells": [
    {
      "cell_type": "code",
      "execution_count": 66,
      "metadata": {
        "colab": {
          "base_uri": "https://localhost:8080/"
        },
        "id": "cKtKVrWmg1fg",
        "outputId": "75da6c96-8a05-428d-9a2e-519f966a4cd5"
      },
      "outputs": [
        {
          "output_type": "stream",
          "name": "stdout",
          "text": [
            "--2023-12-20 00:46:47--  http://nlp.stanford.edu/data/glove.6B.zip\n",
            "Resolving nlp.stanford.edu (nlp.stanford.edu)... 171.64.67.140\n",
            "Connecting to nlp.stanford.edu (nlp.stanford.edu)|171.64.67.140|:80... connected.\n",
            "HTTP request sent, awaiting response... 302 Found\n",
            "Location: https://nlp.stanford.edu/data/glove.6B.zip [following]\n",
            "--2023-12-20 00:46:47--  https://nlp.stanford.edu/data/glove.6B.zip\n",
            "Connecting to nlp.stanford.edu (nlp.stanford.edu)|171.64.67.140|:443... connected.\n",
            "HTTP request sent, awaiting response... 301 Moved Permanently\n",
            "Location: https://downloads.cs.stanford.edu/nlp/data/glove.6B.zip [following]\n",
            "--2023-12-20 00:46:47--  https://downloads.cs.stanford.edu/nlp/data/glove.6B.zip\n",
            "Resolving downloads.cs.stanford.edu (downloads.cs.stanford.edu)... 171.64.64.22\n",
            "Connecting to downloads.cs.stanford.edu (downloads.cs.stanford.edu)|171.64.64.22|:443... connected.\n",
            "HTTP request sent, awaiting response... 200 OK\n",
            "Length: 862182613 (822M) [application/zip]\n",
            "Saving to: ‘glove.6B.zip.1’\n",
            "\n",
            "glove.6B.zip.1      100%[===================>] 822.24M  5.02MB/s    in 2m 39s  \n",
            "\n",
            "2023-12-20 00:49:27 (5.16 MB/s) - ‘glove.6B.zip.1’ saved [862182613/862182613]\n",
            "\n"
          ]
        }
      ],
      "source": [
        "!wget http://nlp.stanford.edu/data/glove.6B.zip"
      ]
    },
    {
      "cell_type": "code",
      "source": [
        "!unzip glove*.zip"
      ],
      "metadata": {
        "colab": {
          "base_uri": "https://localhost:8080/"
        },
        "id": "xaSrdnkmii06",
        "outputId": "8632ee86-cdff-4f37-fadf-7ea98be89514"
      },
      "execution_count": 71,
      "outputs": [
        {
          "output_type": "stream",
          "name": "stdout",
          "text": [
            "Archive:  glove.6B.zip\n",
            "replace glove.6B.50d.txt? [y]es, [n]o, [A]ll, [N]one, [r]ename: yes\n",
            "  inflating: glove.6B.50d.txt        \n",
            "replace glove.6B.100d.txt? [y]es, [n]o, [A]ll, [N]one, [r]ename: y\n",
            "  inflating: glove.6B.100d.txt       \n",
            "replace glove.6B.200d.txt? [y]es, [n]o, [A]ll, [N]one, [r]ename: y\n",
            "  inflating: glove.6B.200d.txt       \n",
            "replace glove.6B.300d.txt? [y]es, [n]o, [A]ll, [N]one, [r]ename: y\n",
            "  inflating: glove.6B.300d.txt       \n"
          ]
        }
      ]
    },
    {
      "cell_type": "code",
      "source": [
        "!ls\n",
        "!pwd"
      ],
      "metadata": {
        "colab": {
          "base_uri": "https://localhost:8080/"
        },
        "id": "-_ADsT8hji_P",
        "outputId": "b139adb3-8356-4684-a5f6-af44f77b6fa2"
      },
      "execution_count": 73,
      "outputs": [
        {
          "output_type": "stream",
          "name": "stdout",
          "text": [
            "glove.6B.100d.txt  glove.6B.300d.txt  glove.6B.zip    index.html\n",
            "glove.6B.200d.txt  glove.6B.50d.txt   glove.6B.zip.1  sample_data\n",
            "/content\n"
          ]
        }
      ]
    },
    {
      "cell_type": "code",
      "source": [
        "import numpy as np\n",
        "from sklearn.metrics.pairwise import pairwise_distances"
      ],
      "metadata": {
        "id": "y-N6TUwakyvg"
      },
      "execution_count": 102,
      "outputs": []
    },
    {
      "cell_type": "code",
      "source": [
        "print('Loading word vectors...')\n",
        "word2vec = {}\n",
        "embedding = []\n",
        "idx2word = []\n",
        "with open('glove.6B.100d.txt') as f:\n",
        "    for row in f:\n",
        "        value = row.split(\" \")\n",
        "        word = value[0]\n",
        "        vec = np.asarray(value[1:], dtype = 'float32')\n",
        "        word2vec[word] = vec\n",
        "        embedding.append(vec)\n",
        "        idx2word.append(word)\n",
        "\n",
        "print('Found %s word vectors.' % len(word2vec))\n",
        "embedding = np.array(embedding)\n",
        "V,D = embedding.shape\n",
        "print(embedding.shape)"
      ],
      "metadata": {
        "colab": {
          "base_uri": "https://localhost:8080/"
        },
        "id": "H5Cokdsgj8h6",
        "outputId": "77062c85-8e5c-45fd-92b6-17b24cd684fa"
      },
      "execution_count": 103,
      "outputs": [
        {
          "output_type": "stream",
          "name": "stdout",
          "text": [
            "Loading word vectors...\n",
            "Found 400000 word vectors.\n",
            "(400000, 100)\n"
          ]
        }
      ]
    },
    {
      "cell_type": "code",
      "source": [
        "def find_analogies(w1, w2, w3):\n",
        "    for w in (w1, w2, w3):\n",
        "        if w not in word2vec:\n",
        "            print(\"%s not in dictionary\" % w)\n",
        "            return\n",
        "    w1vec = word2vec[w1]\n",
        "    w2vec = word2vec[w2]\n",
        "    w3vec = word2vec[w3]\n",
        "    w4vec = w1vec + w3vec - w2vec\n",
        "\n",
        "    distance = pairwise_distances(w4vec.reshape(1,D), embedding, metric = 'l2').reshape(V)\n",
        "    ids = distance.argsort()[:4]\n",
        "    words = [idx2word[id] for id in ids if idx2word[id] not in (w1, w2, w3)]\n",
        "    print('\\n',w1, \"-\", w2, \"=\", words[0], \"-\", w3)"
      ],
      "metadata": {
        "id": "in_KCWl0kQKK"
      },
      "execution_count": 104,
      "outputs": []
    },
    {
      "cell_type": "code",
      "source": [
        "find_analogies('king', 'man', 'woman')"
      ],
      "metadata": {
        "colab": {
          "base_uri": "https://localhost:8080/"
        },
        "id": "ViPrPLcdl-Hj",
        "outputId": "55f98c68-4d75-4de9-8116-ce820143de0c"
      },
      "execution_count": 105,
      "outputs": [
        {
          "output_type": "stream",
          "name": "stdout",
          "text": [
            "\n",
            " king - man = queen - woman\n"
          ]
        }
      ]
    },
    {
      "cell_type": "code",
      "source": [
        "find_analogies('france', 'paris', 'london')"
      ],
      "metadata": {
        "colab": {
          "base_uri": "https://localhost:8080/"
        },
        "id": "yVB8s0cjnenw",
        "outputId": "8d4c69d1-84cf-4b88-c368-75da66a6f184"
      },
      "execution_count": 106,
      "outputs": [
        {
          "output_type": "stream",
          "name": "stdout",
          "text": [
            "\n",
            " france - paris = britain - london\n"
          ]
        }
      ]
    },
    {
      "cell_type": "code",
      "source": [
        "find_analogies('france', 'paris', 'rome')"
      ],
      "metadata": {
        "colab": {
          "base_uri": "https://localhost:8080/"
        },
        "id": "cTDqdfOfnh1f",
        "outputId": "c1d7334a-5dde-42c7-8536-edc2b2cceb56"
      },
      "execution_count": 107,
      "outputs": [
        {
          "output_type": "stream",
          "name": "stdout",
          "text": [
            "\n",
            " france - paris = italy - rome\n"
          ]
        }
      ]
    },
    {
      "cell_type": "code",
      "source": [
        "find_analogies('paris', 'france', 'italy')"
      ],
      "metadata": {
        "colab": {
          "base_uri": "https://localhost:8080/"
        },
        "id": "t2_v5eWtnqIP",
        "outputId": "afecd3c6-fce3-4a2b-b7e1-789aad59a5c5"
      },
      "execution_count": 108,
      "outputs": [
        {
          "output_type": "stream",
          "name": "stdout",
          "text": [
            "\n",
            " paris - france = rome - italy\n"
          ]
        }
      ]
    },
    {
      "cell_type": "code",
      "source": [
        "find_analogies('france', 'french', 'english')"
      ],
      "metadata": {
        "colab": {
          "base_uri": "https://localhost:8080/"
        },
        "id": "MYfFNmhvnuYW",
        "outputId": "36a64b8f-246f-44a4-b850-22cad4e98d5f"
      },
      "execution_count": 109,
      "outputs": [
        {
          "output_type": "stream",
          "name": "stdout",
          "text": [
            "\n",
            " france - french = england - english\n"
          ]
        }
      ]
    },
    {
      "cell_type": "code",
      "source": [
        "find_analogies('japan', 'japanese', 'chinese')"
      ],
      "metadata": {
        "colab": {
          "base_uri": "https://localhost:8080/"
        },
        "id": "GQhjq91pnv26",
        "outputId": "1426c94a-4e9c-4887-ef42-a48ba9b12ea5"
      },
      "execution_count": 110,
      "outputs": [
        {
          "output_type": "stream",
          "name": "stdout",
          "text": [
            "\n",
            " japan - japanese = china - chinese\n"
          ]
        }
      ]
    },
    {
      "cell_type": "code",
      "source": [
        "find_analogies('japan', 'japanese', 'italian')"
      ],
      "metadata": {
        "colab": {
          "base_uri": "https://localhost:8080/"
        },
        "id": "LWSmGK1On01I",
        "outputId": "e89c8e9c-4730-48c7-e492-f035b21fe42f"
      },
      "execution_count": 111,
      "outputs": [
        {
          "output_type": "stream",
          "name": "stdout",
          "text": [
            "\n",
            " japan - japanese = italy - italian\n"
          ]
        }
      ]
    },
    {
      "cell_type": "code",
      "source": [
        "find_analogies('december', 'november', 'june')"
      ],
      "metadata": {
        "colab": {
          "base_uri": "https://localhost:8080/"
        },
        "id": "Hp33L77gn7iX",
        "outputId": "4a899364-ac00-4965-e62c-f52a07a32cdd"
      },
      "execution_count": 112,
      "outputs": [
        {
          "output_type": "stream",
          "name": "stdout",
          "text": [
            "\n",
            " december - november = july - june\n"
          ]
        }
      ]
    },
    {
      "cell_type": "code",
      "source": [
        "find_analogies('miami', 'florida', 'texas')"
      ],
      "metadata": {
        "colab": {
          "base_uri": "https://localhost:8080/"
        },
        "id": "th2Yzgtvn_6i",
        "outputId": "e5d366fa-a094-4e6b-b977-935f4329258e"
      },
      "execution_count": 113,
      "outputs": [
        {
          "output_type": "stream",
          "name": "stdout",
          "text": [
            "\n",
            " miami - florida = dallas - texas\n"
          ]
        }
      ]
    },
    {
      "cell_type": "code",
      "source": [
        "find_analogies('einstein', 'scientist', 'painter')"
      ],
      "metadata": {
        "colab": {
          "base_uri": "https://localhost:8080/"
        },
        "id": "ffEXPB6AoDOQ",
        "outputId": "92c127bd-8073-4129-b663-24865763f99d"
      },
      "execution_count": 114,
      "outputs": [
        {
          "output_type": "stream",
          "name": "stdout",
          "text": [
            "\n",
            " einstein - scientist = picasso - painter\n"
          ]
        }
      ]
    },
    {
      "cell_type": "code",
      "source": [
        "find_analogies('man', 'woman', 'she')"
      ],
      "metadata": {
        "colab": {
          "base_uri": "https://localhost:8080/"
        },
        "id": "AmP9IxmNoGRj",
        "outputId": "eaf6cdb1-feaf-40f9-94b3-27310a100ddd"
      },
      "execution_count": 115,
      "outputs": [
        {
          "output_type": "stream",
          "name": "stdout",
          "text": [
            "\n",
            " man - woman = he - she\n"
          ]
        }
      ]
    },
    {
      "cell_type": "code",
      "source": [
        "find_analogies('man', 'woman', 'aunt')"
      ],
      "metadata": {
        "colab": {
          "base_uri": "https://localhost:8080/"
        },
        "id": "96aqkdwsoKRI",
        "outputId": "88c926ee-b251-464b-fadd-848f25e1925b"
      },
      "execution_count": 116,
      "outputs": [
        {
          "output_type": "stream",
          "name": "stdout",
          "text": [
            "\n",
            " man - woman = uncle - aunt\n"
          ]
        }
      ]
    },
    {
      "cell_type": "code",
      "source": [
        "find_analogies('man', 'woman', 'sister')"
      ],
      "metadata": {
        "colab": {
          "base_uri": "https://localhost:8080/"
        },
        "id": "-0YL__GDoXaO",
        "outputId": "91d3d4f1-9093-4452-ae15-34630061cd0e"
      },
      "execution_count": 117,
      "outputs": [
        {
          "output_type": "stream",
          "name": "stdout",
          "text": [
            "\n",
            " man - woman = brother - sister\n"
          ]
        }
      ]
    },
    {
      "cell_type": "code",
      "source": [
        "find_analogies('man', 'woman', 'wife')"
      ],
      "metadata": {
        "colab": {
          "base_uri": "https://localhost:8080/"
        },
        "id": "DPtkEAM2oaPf",
        "outputId": "c2276ab8-53be-4ead-87ba-3e8b2c6dab3d"
      },
      "execution_count": 118,
      "outputs": [
        {
          "output_type": "stream",
          "name": "stdout",
          "text": [
            "\n",
            " man - woman = brother - wife\n"
          ]
        }
      ]
    },
    {
      "cell_type": "code",
      "source": [
        "find_analogies('man', 'woman', 'actress')"
      ],
      "metadata": {
        "colab": {
          "base_uri": "https://localhost:8080/"
        },
        "id": "evIS-sPNoeKv",
        "outputId": "a9e6969b-4ed2-41da-8936-9141c6b4aa05"
      },
      "execution_count": 119,
      "outputs": [
        {
          "output_type": "stream",
          "name": "stdout",
          "text": [
            "\n",
            " man - woman = actor - actress\n"
          ]
        }
      ]
    },
    {
      "cell_type": "code",
      "source": [
        "find_analogies('man', 'woman', 'mother')"
      ],
      "metadata": {
        "colab": {
          "base_uri": "https://localhost:8080/"
        },
        "id": "P2uInI8VokcW",
        "outputId": "1426cf93-e30d-4fb9-d522-240c95c6c759"
      },
      "execution_count": 120,
      "outputs": [
        {
          "output_type": "stream",
          "name": "stdout",
          "text": [
            "\n",
            " man - woman = father - mother\n"
          ]
        }
      ]
    },
    {
      "cell_type": "code",
      "source": [
        "find_analogies('nephew', 'niece', 'aunt')"
      ],
      "metadata": {
        "colab": {
          "base_uri": "https://localhost:8080/"
        },
        "id": "ivei33hQon6A",
        "outputId": "20e4b4c5-6e5c-4240-c2cf-16adf8a36f0b"
      },
      "execution_count": 121,
      "outputs": [
        {
          "output_type": "stream",
          "name": "stdout",
          "text": [
            "\n",
            " nephew - niece = uncle - aunt\n"
          ]
        }
      ]
    },
    {
      "cell_type": "code",
      "source": [
        "def nearest_neighbors(w1):\n",
        "  if w1 not in word2vec:\n",
        "    print(\"%s not in dictionary\" % w1)\n",
        "    return\n",
        "  w1vec = word2vec[w1]\n",
        "  distance = pairwise_distances(w1vec.reshape(1,D), embedding, metric = 'l2').reshape(V)\n",
        "  ids = distance.argsort()[:11]\n",
        "  words = [idx2word[id] for id in ids if idx2word[id]!=w1]\n",
        "  print(words)"
      ],
      "metadata": {
        "id": "kf3yrAdWosvF"
      },
      "execution_count": 122,
      "outputs": []
    },
    {
      "cell_type": "code",
      "source": [
        "nearest_neighbors('king')"
      ],
      "metadata": {
        "colab": {
          "base_uri": "https://localhost:8080/"
        },
        "id": "bxPRmyz4qynA",
        "outputId": "e13e89a3-9d38-4a03-da94-8099ceb8b180"
      },
      "execution_count": 123,
      "outputs": [
        {
          "output_type": "stream",
          "name": "stdout",
          "text": [
            "['prince', 'queen', 'monarch', 'brother', 'uncle', 'nephew', 'son', 'throne', 'kingdom', 'reign']\n"
          ]
        }
      ]
    },
    {
      "cell_type": "code",
      "source": [
        "nearest_neighbors('france')"
      ],
      "metadata": {
        "colab": {
          "base_uri": "https://localhost:8080/"
        },
        "id": "qr8KqEgCqfaV",
        "outputId": "a0a87231-02b2-45d5-fe4b-d9a5ce2765cf"
      },
      "execution_count": 124,
      "outputs": [
        {
          "output_type": "stream",
          "name": "stdout",
          "text": [
            "['belgium', 'britain', 'french', 'spain', 'paris', 'europe', 'netherlands', 'germany', 'italy', 'luxembourg']\n"
          ]
        }
      ]
    },
    {
      "cell_type": "code",
      "source": [
        "nearest_neighbors('japan')"
      ],
      "metadata": {
        "colab": {
          "base_uri": "https://localhost:8080/"
        },
        "id": "8RAivzwBrczD",
        "outputId": "24fddb0d-b815-4252-9d8e-2255187da831"
      },
      "execution_count": 125,
      "outputs": [
        {
          "output_type": "stream",
          "name": "stdout",
          "text": [
            "['japanese', 'korea', 'tokyo', 'china', 'thailand', 'indonesia', 'philippines', 'asia', 'vietnam', 'europe']\n"
          ]
        }
      ]
    },
    {
      "cell_type": "code",
      "source": [
        "nearest_neighbors('einstein')"
      ],
      "metadata": {
        "colab": {
          "base_uri": "https://localhost:8080/"
        },
        "id": "1H20ecPWrghm",
        "outputId": "e3fa95d0-5ee9-47d1-fca1-87d082c1edaa"
      },
      "execution_count": 126,
      "outputs": [
        {
          "output_type": "stream",
          "name": "stdout",
          "text": [
            "['relativity', 'freud', 'bohr', 'sigmund', 'postulated', 'theory', 'invented', 'analogy', 'maxwell', 'deduced']\n"
          ]
        }
      ]
    },
    {
      "cell_type": "code",
      "source": [
        "nearest_neighbors('woman')"
      ],
      "metadata": {
        "colab": {
          "base_uri": "https://localhost:8080/"
        },
        "id": "an65aElHrnBw",
        "outputId": "3d95e71a-d4b1-4c7b-b851-2e3913e0f1d1"
      },
      "execution_count": 127,
      "outputs": [
        {
          "output_type": "stream",
          "name": "stdout",
          "text": [
            "['girl', 'man', 'mother', 'boy', 'child', 'herself', 'victim', 'wife', 'she', 'teenager']\n"
          ]
        }
      ]
    },
    {
      "cell_type": "code",
      "source": [
        "nearest_neighbors('nephew')"
      ],
      "metadata": {
        "colab": {
          "base_uri": "https://localhost:8080/"
        },
        "id": "5mwDjZGCrqpQ",
        "outputId": "747fb0b8-6898-4939-c30c-1377d5f27c76"
      },
      "execution_count": 128,
      "outputs": [
        {
          "output_type": "stream",
          "name": "stdout",
          "text": [
            "['cousin', 'grandson', 'brother', 'uncle', 'brother-in-law', 'niece', 'son-in-law', 'son', 'grandfather', 'eldest']\n"
          ]
        }
      ]
    },
    {
      "cell_type": "code",
      "source": [
        "nearest_neighbors('february')"
      ],
      "metadata": {
        "colab": {
          "base_uri": "https://localhost:8080/"
        },
        "id": "jv9zSeUkrvNM",
        "outputId": "ed648cc2-3f0a-4151-b20b-75381ec65b04"
      },
      "execution_count": 129,
      "outputs": [
        {
          "output_type": "stream",
          "name": "stdout",
          "text": [
            "['october', 'december', 'september', 'january', 'august', 'november', 'june', 'april', 'july', 'march']\n"
          ]
        }
      ]
    }
  ]
}