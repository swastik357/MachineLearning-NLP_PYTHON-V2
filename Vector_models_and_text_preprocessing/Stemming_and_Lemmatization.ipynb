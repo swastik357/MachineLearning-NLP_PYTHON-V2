{
  "nbformat": 4,
  "nbformat_minor": 0,
  "metadata": {
    "colab": {
      "provenance": []
    },
    "kernelspec": {
      "name": "python3",
      "display_name": "Python 3"
    },
    "language_info": {
      "name": "python"
    }
  },
  "cells": [
    {
      "cell_type": "code",
      "source": [
        "import nltk\n",
        "from nltk.stem import PorterStemmer\n",
        "porter = PorterStemmer()"
      ],
      "metadata": {
        "id": "28YGC61kC-23"
      },
      "execution_count": 40,
      "outputs": []
    },
    {
      "cell_type": "code",
      "source": [
        "wordList = [\"walking\",\"walked\",\"walks\",\"ran\",\"running\",\"bosses\",\"replacement\"]\n",
        "for word in wordList:\n",
        "  print(f'{word} HAS STEMMED FORMAT {porter.stem(word)}')\n",
        "\n",
        "print('---------------------------------------------------')\n",
        "sentence = \"Lemmatization is more sophisticated than stemming\".split()\n",
        "for token in sentence:\n",
        "  print(porter.stem(token), end=\" \")\n",
        "\n",
        "print('\\n---------------------------------------------------')\n",
        "wordList = [\"unnecessary\",\"berry\"]\n",
        "for word in wordList:\n",
        "  print(f'{word} HAS STEMMED FORMAT {porter.stem(word)}')"
      ],
      "metadata": {
        "colab": {
          "base_uri": "https://localhost:8080/"
        },
        "id": "f8EnRG3YDDyF",
        "outputId": "0c83bb7b-c065-42ac-b7d1-a641b9aea9c8"
      },
      "execution_count": 29,
      "outputs": [
        {
          "output_type": "stream",
          "name": "stdout",
          "text": [
            "walking HAS STEMMED FORMAT walk\n",
            "walked HAS STEMMED FORMAT walk\n",
            "walks HAS STEMMED FORMAT walk\n",
            "ran HAS STEMMED FORMAT ran\n",
            "running HAS STEMMED FORMAT run\n",
            "bosses HAS STEMMED FORMAT boss\n",
            "replacement HAS STEMMED FORMAT replac\n",
            "---------------------------------------------------\n",
            "lemmat is more sophist than stem \n",
            "---------------------------------------------------\n",
            "unnecessary HAS STEMMED FORMAT unnecessari\n",
            "berry HAS STEMMED FORMAT berri\n"
          ]
        }
      ]
    },
    {
      "cell_type": "code",
      "source": [
        "from nltk.stem import WordNetLemmatizer\n",
        "from nltk.corpus import wordnet\n",
        "\n",
        "nltk.download(\"wordnet\")\n",
        "lemmatizer = WordNetLemmatizer()"
      ],
      "metadata": {
        "colab": {
          "base_uri": "https://localhost:8080/"
        },
        "id": "tC80QPnoxjMB",
        "outputId": "9e4d8bce-6f3b-4b71-e25f-7ac410ab6a6e"
      },
      "execution_count": 41,
      "outputs": [
        {
          "output_type": "stream",
          "name": "stderr",
          "text": [
            "[nltk_data] Downloading package wordnet to /root/nltk_data...\n",
            "[nltk_data]   Package wordnet is already up-to-date!\n"
          ]
        }
      ]
    },
    {
      "cell_type": "code",
      "source": [
        "wordList = [\"walking\",\"going\",\"ran\"]\n",
        "for word in wordList:\n",
        "  print(f'LEMMATIZED {word} IS {lemmatizer.lemmatize(word)} AND WITH TAGGING IS {lemmatizer.lemmatize(word, pos=wordnet.VERB)}')"
      ],
      "metadata": {
        "colab": {
          "base_uri": "https://localhost:8080/"
        },
        "id": "IaNQgu-31TMA",
        "outputId": "c86fcecb-48a8-4df0-bc61-70772642deef"
      },
      "execution_count": 42,
      "outputs": [
        {
          "output_type": "stream",
          "name": "stdout",
          "text": [
            "LEMMATIZED walking IS walking AND WITH TAGGING IS walk\n",
            "LEMMATIZED going IS going AND WITH TAGGING IS go\n",
            "LEMMATIZED ran IS ran AND WITH TAGGING IS run\n"
          ]
        }
      ]
    },
    {
      "cell_type": "code",
      "source": [
        "print('ORIGINAL WORD : mice')\n",
        "print(f'STEM OF WORD mice: {porter.stem(\"mice\")}')\n",
        "print(f'LEMMA OF WORD mice: {lemmatizer.lemmatize(\"mice\")}')\n",
        "print('\\n---------------------------------------------------')\n",
        "print('ORIGINAL WORD : was')\n",
        "print(f'STEM OF WORD was: {porter.stem(\"was\")}')\n",
        "print(f'LEMMA OF WORD was: {lemmatizer.lemmatize(\"was\", pos=wordnet.VERB)}')\n",
        "print('\\n---------------------------------------------------')\n",
        "print('ORIGINAL WORD : is')\n",
        "print(f'STEM OF WORD is: {porter.stem(\"is\")}')\n",
        "print(f'LEMMA OF WORD is: {lemmatizer.lemmatize(\"is\", pos=wordnet.VERB)}')\n",
        "print('\\n---------------------------------------------------')\n",
        "print('ORIGINAL WORD : better')\n",
        "print(f'STEM OF WORD better: {porter.stem(\"better\")}')\n",
        "print(f'LEMMA OF WORD better: {lemmatizer.lemmatize(\"better\", pos=wordnet.ADJ)}')"
      ],
      "metadata": {
        "colab": {
          "base_uri": "https://localhost:8080/"
        },
        "id": "pzOKvLZp5H3V",
        "outputId": "d12a84c5-7678-47fa-dffd-73310c588dd4"
      },
      "execution_count": 43,
      "outputs": [
        {
          "output_type": "stream",
          "name": "stdout",
          "text": [
            "ORIGINAL WORD : mice\n",
            "STEM OF WORD mice: mice\n",
            "LEMMA OF WORD mice: mouse\n",
            "\n",
            "---------------------------------------------------\n",
            "ORIGINAL WORD : was\n",
            "STEM OF WORD was: wa\n",
            "LEMMA OF WORD was: be\n",
            "\n",
            "---------------------------------------------------\n",
            "ORIGINAL WORD : is\n",
            "STEM OF WORD is: is\n",
            "LEMMA OF WORD is: be\n",
            "\n",
            "---------------------------------------------------\n",
            "ORIGINAL WORD : better\n",
            "STEM OF WORD better: better\n",
            "LEMMA OF WORD better: good\n"
          ]
        }
      ]
    },
    {
      "cell_type": "code",
      "source": [
        "def get_wordnet_pos(treebank_tag):\n",
        "  if treebank_tag.startswith('J'):\n",
        "    return wordnet.ADJ\n",
        "  elif treebank_tag.startswith('V'):\n",
        "    return wordnet.VERB\n",
        "  elif treebank_tag.startswith('N'):\n",
        "    return wordnet.NOUN\n",
        "  elif treebank_tag.startswith('R'):\n",
        "    return wordnet.ADV\n",
        "  else:\n",
        "    return wordnet.NOUN"
      ],
      "metadata": {
        "id": "Tv-BSkB8vRYK"
      },
      "execution_count": 46,
      "outputs": []
    },
    {
      "cell_type": "code",
      "source": [
        "nltk.download('averaged_perceptron_tagger')"
      ],
      "metadata": {
        "colab": {
          "base_uri": "https://localhost:8080/"
        },
        "id": "axZ9QoRrvxcf",
        "outputId": "db813360-0179-4654-c7c0-f56ea39c9269"
      },
      "execution_count": 47,
      "outputs": [
        {
          "output_type": "stream",
          "name": "stderr",
          "text": [
            "[nltk_data] Downloading package averaged_perceptron_tagger to\n",
            "[nltk_data]     /root/nltk_data...\n",
            "[nltk_data]   Package averaged_perceptron_tagger is already up-to-\n",
            "[nltk_data]       date!\n"
          ]
        },
        {
          "output_type": "execute_result",
          "data": {
            "text/plain": [
              "True"
            ]
          },
          "metadata": {},
          "execution_count": 47
        }
      ]
    },
    {
      "cell_type": "code",
      "source": [
        "sentence = \"Donald Trump has a devoted following\".split()\n",
        "\n",
        "words_and_tags = nltk.pos_tag(sentence)\n",
        "words_and_tags"
      ],
      "metadata": {
        "colab": {
          "base_uri": "https://localhost:8080/"
        },
        "id": "cLLZYoSjv34w",
        "outputId": "b4b98bf9-faa0-4c80-b5d0-4c94dfc3d8af"
      },
      "execution_count": 48,
      "outputs": [
        {
          "output_type": "execute_result",
          "data": {
            "text/plain": [
              "[('Donald', 'NNP'),\n",
              " ('Trump', 'NNP'),\n",
              " ('has', 'VBZ'),\n",
              " ('a', 'DT'),\n",
              " ('devoted', 'VBN'),\n",
              " ('following', 'NN')]"
            ]
          },
          "metadata": {},
          "execution_count": 48
        }
      ]
    },
    {
      "cell_type": "code",
      "source": [
        "for word, tag in words_and_tags:\n",
        "  lemma = lemmatizer.lemmatize(word, pos=get_wordnet_pos(tag))\n",
        "  print(lemma, end=\" \")"
      ],
      "metadata": {
        "colab": {
          "base_uri": "https://localhost:8080/"
        },
        "id": "UZf3YvZDxY7J",
        "outputId": "ba867c78-02ba-468d-b623-d24f636ae223"
      },
      "execution_count": 50,
      "outputs": [
        {
          "output_type": "stream",
          "name": "stdout",
          "text": [
            "Donald Trump have a devote following "
          ]
        }
      ]
    },
    {
      "cell_type": "code",
      "source": [
        "\n",
        "sentence = \"The cat was following the bird as it flew by\".split()\n",
        "\n",
        "words_and_tags = nltk.pos_tag(sentence)\n",
        "words_and_tags"
      ],
      "metadata": {
        "colab": {
          "base_uri": "https://localhost:8080/"
        },
        "id": "podLIJ9CozQ3",
        "outputId": "d2704daf-83d1-4767-a527-e1d2b818c431"
      },
      "execution_count": 51,
      "outputs": [
        {
          "output_type": "execute_result",
          "data": {
            "text/plain": [
              "[('The', 'DT'),\n",
              " ('cat', 'NN'),\n",
              " ('was', 'VBD'),\n",
              " ('following', 'VBG'),\n",
              " ('the', 'DT'),\n",
              " ('bird', 'NN'),\n",
              " ('as', 'IN'),\n",
              " ('it', 'PRP'),\n",
              " ('flew', 'VBD'),\n",
              " ('by', 'IN')]"
            ]
          },
          "metadata": {},
          "execution_count": 51
        }
      ]
    },
    {
      "cell_type": "code",
      "source": [
        "for word, tag in words_and_tags:\n",
        "  lemma = lemmatizer.lemmatize(word, pos=get_wordnet_pos(tag))\n",
        "  print(lemma, end=\" \")"
      ],
      "metadata": {
        "colab": {
          "base_uri": "https://localhost:8080/"
        },
        "id": "M_uYbp3uwVMn",
        "outputId": "d5951cd8-e9b4-4ec5-dc35-de611d446d14"
      },
      "execution_count": 52,
      "outputs": [
        {
          "output_type": "stream",
          "name": "stdout",
          "text": [
            "The cat be follow the bird a it fly by "
          ]
        }
      ]
    }
  ]
}